{
 "cells": [
  {
   "cell_type": "markdown",
   "id": "3c231cfa-6925-4269-a93f-ea6cf4b1c642",
   "metadata": {},
   "source": [
    "Ternary trees is similar to Btrees in spirit but they have a little more data in the sense that they don't store values as such but they store characters. Whereas Btrees() can store anything, a ternary trees is intended to store strings. That's its purpose, so it's a little less general purpose."
   ]
  },
  {
   "cell_type": "markdown",
   "id": "ba0f2afb-5d42-438b-86fc-03a36651e3df",
   "metadata": {},
   "source": [
    "A ternary search tree has nodes with the following attributes:\n",
    "* a character, can be `None`;\n",
    "* a Boolean flag that indicates whether the character represented\n",
    "  by this node has been the last in a string that was inserted in the\n",
    "  tree;\n",
    "* the \"less-than\" child;\n",
    "* the \"equals\" child and\n",
    "* the \"larger-than\" child.\n",
    "\n",
    "The data structure should support the following operations:\n",
    "* string insert\n",
    "* string search\n",
    "* prefix string search\n",
    "* return the number of strings stored in the data structure\n",
    "* return all strings stored in the data structure\n",
    "\n",
    "Also ensure that an instance of the data structure can be visualy represented, e.g., in aSCII format."
   ]
  },
  {
   "cell_type": "markdown",
   "id": "e24e0d90-56fa-4aed-a031-bb252cf55300",
   "metadata": {},
   "source": [
    "# Implementation"
   ]
  },
  {
   "cell_type": "markdown",
   "id": "b03b1d3b-57c9-405b-93a2-731e7d81de68",
   "metadata": {},
   "source": [
    "In this case, it is implemented in one/two python files, as a module which we need to write. We can either implement it as a module or do the implementation in the notebook"
   ]
  },
  {
   "cell_type": "code",
   "execution_count": 286,
   "id": "2e38f69e-5b57-4ae7-85ce-c1f65d6d3673",
   "metadata": {},
   "outputs": [
    {
     "name": "stdout",
     "output_type": "stream",
     "text": [
      "The autoreload extension is already loaded. To reload it, use:\n",
      "  %reload_ext autoreload\n"
     ]
    }
   ],
   "source": [
    "%load_ext autoreload\n",
    "%autoreload 2"
   ]
  },
  {
   "cell_type": "markdown",
   "id": "c4e0a12a-37c0-4ed0-8bd3-225764f59f4c",
   "metadata": {},
   "source": [
    "The data structure has been implemented as a class."
   ]
  },
  {
   "cell_type": "code",
   "execution_count": 287,
   "id": "63f8d683-29d5-4e4d-bff8-d9264f5a18aa",
   "metadata": {
    "tags": []
   },
   "outputs": [],
   "source": [
    "from ternary_search_tree import TernarySearchTree"
   ]
  },
  {
   "cell_type": "markdown",
   "id": "29c9a229-e99c-4db0-afff-8623495b0d0f",
   "metadata": {
    "tags": []
   },
   "source": [
    "# Example usage"
   ]
  },
  {
   "cell_type": "markdown",
   "id": "0df14272-c232-49cf-bacb-bdfe92d1801e",
   "metadata": {},
   "source": [
    "Create a new empty ternery search tree."
   ]
  },
  {
   "cell_type": "code",
   "execution_count": 288,
   "id": "1497b163-80f4-4615-9b96-de0d0d94bab4",
   "metadata": {
    "tags": []
   },
   "outputs": [],
   "source": [
    "tst = TernarySearchTree()"
   ]
  },
  {
   "cell_type": "code",
   "execution_count": 289,
   "id": "81684297",
   "metadata": {},
   "outputs": [
    {
     "name": "stdout",
     "output_type": "stream",
     "text": [
      "empty tree\n"
     ]
    }
   ],
   "source": [
    "print(tst)"
   ]
  },
  {
   "cell_type": "markdown",
   "id": "0f4fab8f-f1f8-4e90-b533-ceec45b60dcb",
   "metadata": {},
   "source": [
    "Insert the string `'abc'` into the tree."
   ]
  },
  {
   "cell_type": "code",
   "execution_count": 290,
   "id": "3b159de7-9668-4814-9d52-92ddd95736c8",
   "metadata": {
    "tags": []
   },
   "outputs": [],
   "source": [
    "tst.insert('abc')"
   ]
  },
  {
   "cell_type": "markdown",
   "id": "5f3cbbf6-256e-4e36-815f-49fa9bbba3c8",
   "metadata": {},
   "source": [
    "Display the tree."
   ]
  },
  {
   "cell_type": "code",
   "execution_count": 291,
   "id": "596f3312-7d0f-42d2-9ea2-a50d81f7d8be",
   "metadata": {
    "tags": []
   },
   "outputs": [
    {
     "name": "stdout",
     "output_type": "stream",
     "text": [
      "char: abc, Terminates: False\n",
      "_lt:  char: a,   Terminates: False\n",
      "_eq:    char: b,     Terminates: False\n",
      "_eq:      char: c*,       Terminates: True\n"
     ]
    }
   ],
   "source": [
    "print(tst)"
   ]
  },
  {
   "cell_type": "markdown",
   "id": "e76a848b-88a8-4b2e-8ee7-e93bb64ecff0",
   "metadata": {},
   "source": [
    "Insert another string `'aqt'`."
   ]
  },
  {
   "cell_type": "code",
   "execution_count": 292,
   "id": "d59f3ef9-0523-4c20-a2fa-073165a35d5e",
   "metadata": {
    "tags": []
   },
   "outputs": [],
   "source": [
    "tst.insert('aqt')"
   ]
  },
  {
   "cell_type": "code",
   "execution_count": 293,
   "id": "a6a40c5d-e3e4-4104-ab0a-308a4ccdb5e1",
   "metadata": {
    "tags": []
   },
   "outputs": [
    {
     "name": "stdout",
     "output_type": "stream",
     "text": [
      "char: abc, Terminates: False\n",
      "_lt:  char: a,   Terminates: False\n",
      "_eq:    char: b,     Terminates: False\n",
      "_eq:      char: c*,       Terminates: True\n",
      "_gt:      char: q,       Terminates: False\n",
      "_eq:        char: t*,         Terminates: True\n"
     ]
    }
   ],
   "source": [
    "print(tst)"
   ]
  },
  {
   "cell_type": "markdown",
   "id": "d3b133d1-b878-4e57-a2c9-17c44ba186cb",
   "metadata": {},
   "source": [
    "The tree should now contain two strings."
   ]
  },
  {
   "cell_type": "code",
   "execution_count": 294,
   "id": "45c03393-62ad-43e1-8667-5847d338d740",
   "metadata": {
    "tags": []
   },
   "outputs": [
    {
     "name": "stdout",
     "output_type": "stream",
     "text": [
      "printing length of abc\n"
     ]
    },
    {
     "data": {
      "text/plain": [
       "2"
      ]
     },
     "execution_count": 294,
     "metadata": {},
     "output_type": "execute_result"
    }
   ],
   "source": [
    "len(tst)"
   ]
  },
  {
   "cell_type": "code",
   "execution_count": 295,
   "id": "1713d80e-e2e1-42b7-b1e0-cdc70aec6ceb",
   "metadata": {},
   "outputs": [
    {
     "name": "stdout",
     "output_type": "stream",
     "text": [
      "empty string in less than? word: abc\n",
      "this word has flag wordend: aqt\n",
      "this word has flag wordend: abc\n"
     ]
    },
    {
     "data": {
      "text/plain": [
       "['aqt', 'abc']"
      ]
     },
     "execution_count": 295,
     "metadata": {},
     "output_type": "execute_result"
    }
   ],
   "source": [
    "tst.all_strings()"
   ]
  },
  {
   "cell_type": "markdown",
   "id": "7350133c-1484-485f-a8dc-1cac2c462ec7",
   "metadata": {},
   "source": [
    "Search for the string `'ab'`, it should be found since it is a prefix of `'abc'`."
   ]
  },
  {
   "cell_type": "code",
   "execution_count": 296,
   "id": "ddd71cf3-f887-4939-bae7-4a1c0a85a9e2",
   "metadata": {
    "tags": []
   },
   "outputs": [
    {
     "name": "stdout",
     "output_type": "stream",
     "text": [
      "searching for char a at node abc\n",
      "searching for char a at node a\n",
      "searching for char b at node b\n",
      "this word has flag wordend: abc\n"
     ]
    },
    {
     "data": {
      "text/plain": [
       "['abc']"
      ]
     },
     "execution_count": 296,
     "metadata": {},
     "output_type": "execute_result"
    }
   ],
   "source": [
    "tst.search('ab', exact=False)"
   ]
  },
  {
   "cell_type": "code",
   "execution_count": 297,
   "id": "8e930170",
   "metadata": {},
   "outputs": [
    {
     "name": "stdout",
     "output_type": "stream",
     "text": [
      "searching for char a at node abc\n",
      "searching for char a at node a\n",
      "searching for char b at node b\n"
     ]
    },
    {
     "data": {
      "text/plain": [
       "[]"
      ]
     },
     "execution_count": 297,
     "metadata": {},
     "output_type": "execute_result"
    }
   ],
   "source": [
    "tst.search('ab', exact=True)"
   ]
  },
  {
   "cell_type": "markdown",
   "id": "45443693-ae5a-4584-bab2-7c20e8331dcc",
   "metadata": {},
   "source": [
    "The string `'ac'` should not be found."
   ]
  },
  {
   "cell_type": "code",
   "execution_count": 306,
   "id": "3756d5c9-0286-463a-8962-a0878ec067e2",
   "metadata": {
    "tags": []
   },
   "outputs": [
    {
     "name": "stdout",
     "output_type": "stream",
     "text": [
      "searching for char a at node abc\n",
      "searching for char a at node a\n",
      "searching for char c at node b\n",
      "searching for char c at node q\n"
     ]
    },
    {
     "data": {
      "text/plain": [
       "[]"
      ]
     },
     "execution_count": 306,
     "metadata": {},
     "output_type": "execute_result"
    }
   ],
   "source": [
    "tst.search('ac', exact=False)"
   ]
  },
  {
   "cell_type": "markdown",
   "id": "c244f370-77fa-4291-bc8d-b8a4e4c3a680",
   "metadata": {},
   "source": [
    "The tree can also contain the empty string."
   ]
  },
  {
   "cell_type": "code",
   "execution_count": 299,
   "id": "66a3fdd6-bb30-42ec-9f2e-73c880b40209",
   "metadata": {
    "tags": []
   },
   "outputs": [
    {
     "name": "stdout",
     "output_type": "stream",
     "text": [
      "this is an empty string\n"
     ]
    }
   ],
   "source": [
    "tst.insert('')"
   ]
  },
  {
   "cell_type": "code",
   "execution_count": 300,
   "id": "b94f344b-2c62-4b75-95e0-d79f609072fd",
   "metadata": {
    "tags": []
   },
   "outputs": [
    {
     "name": "stdout",
     "output_type": "stream",
     "text": [
      "printing length of abc\n"
     ]
    },
    {
     "data": {
      "text/plain": [
       "2"
      ]
     },
     "execution_count": 300,
     "metadata": {},
     "output_type": "execute_result"
    }
   ],
   "source": [
    "len(tst)"
   ]
  },
  {
   "cell_type": "code",
   "execution_count": 301,
   "id": "8d3ae3fd",
   "metadata": {},
   "outputs": [
    {
     "name": "stdout",
     "output_type": "stream",
     "text": [
      "empty string in less than? word: abc\n",
      "this word has flag wordend: aqt\n",
      "this word has flag wordend: abc\n",
      "['', 'aqt', 'abc']\n"
     ]
    }
   ],
   "source": [
    "print(tst.all_strings())"
   ]
  },
  {
   "cell_type": "code",
   "execution_count": 305,
   "id": "65ba1832",
   "metadata": {},
   "outputs": [
    {
     "name": "stdout",
     "output_type": "stream",
     "text": [
      "start ttree with empty string\n",
      "['']\n",
      "printing length of *\n"
     ]
    },
    {
     "data": {
      "text/plain": [
       "0"
      ]
     },
     "execution_count": 305,
     "metadata": {},
     "output_type": "execute_result"
    }
   ],
   "source": [
    "t = TernarySearchTree()\n",
    "t.insert(\"\")\n",
    "print(t.all_strings())\n",
    "len(t)"
   ]
  },
  {
   "cell_type": "code",
   "execution_count": 179,
   "id": "be2221c7-57af-449c-b235-4b9257b98229",
   "metadata": {
    "tags": []
   },
   "outputs": [
    {
     "name": "stdout",
     "output_type": "stream",
     "text": [
      "char: abc*, Terminates: True\n",
      "_lt:  char: a,   Terminates: False\n",
      "_eq:    char: b,     Terminates: False\n",
      "_eq:      char: c*,       Terminates: True\n",
      "_gt:      char: q,       Terminates: False\n",
      "_eq:        char: t*,         Terminates: True\n"
     ]
    }
   ],
   "source": [
    "print(tst)"
   ]
  },
  {
   "cell_type": "code",
   "execution_count": 304,
   "id": "024e8ed2-b336-4234-8131-cd695864cf9f",
   "metadata": {},
   "outputs": [
    {
     "name": "stdout",
     "output_type": "stream",
     "text": [
      "empty string in less than? word: abc\n",
      "this word has flag wordend: aqt\n",
      "this word has flag wordend: abc\n"
     ]
    },
    {
     "data": {
      "text/plain": [
       "['', 'aqt', 'abc']"
      ]
     },
     "execution_count": 304,
     "metadata": {},
     "output_type": "execute_result"
    }
   ],
   "source": [
    "tst.all_strings()"
   ]
  },
  {
   "cell_type": "markdown",
   "id": "1fee5f92-87e7-4ddb-b6e0-9001d4084faf",
   "metadata": {},
   "source": [
    "# Testing"
   ]
  },
  {
   "cell_type": "markdown",
   "id": "eb3e5956-80f2-42af-a386-56b8ac09ffb9",
   "metadata": {},
   "source": [
    "The worst case for the quicksort algorithm is the sorted list. Maybe that's something we should remember if we look at this dataset (a hint from GJB)."
   ]
  },
  {
   "cell_type": "markdown",
   "id": "a2fa4596-a33c-4fa0-aaeb-b2d179f4bf70",
   "metadata": {},
   "source": [
    "In this project we are supposed to implement similarly to the Btree. Also, do proper testing that your algorithm actually works as expected. Also, pay attention to Corner cases: what happens if I have an empty ternary tree, does the right thing happen (i.e. do I get correct values for the length, do I get correct values for the strings that are sorted in there, etc...). Make sure to have tests in place to test for these cases. The third thing is the performance test: how does it scale with increasing number of words stored in it, how long does it take to build the ternary search tree, also how long does it take to find stuff (in worst case too). Basically, similar tests as we did for the binary tree or the sorting algorithm."
   ]
  },
  {
   "cell_type": "markdown",
   "id": "4f2bf46d-2b5c-46b7-8bee-cb0222473be1",
   "metadata": {},
   "source": [
    "The whole thing is supposed to be implemented using version control. Hence, everything lives in a Github repository. Also there should be documentation in your implementation, just as the documentation seen in the sorting thing.   "
   ]
  },
  {
   "cell_type": "markdown",
   "id": "c494a22d-2eb7-4e28-8591-8f01a0cf5bc5",
   "metadata": {},
   "source": [
    "Discussion should also be there, i.e., you see something -> comment on what you see. Try to explain what you see, whether you expect it. "
   ]
  },
  {
   "cell_type": "markdown",
   "id": "0f641fa7-aaf7-406e-813b-4a84645ca2fb",
   "metadata": {},
   "source": [
    "Create a new Ternary-search-tree and insert some words."
   ]
  },
  {
   "cell_type": "code",
   "execution_count": 181,
   "id": "19431f68-eafd-4e62-a410-06a7c7ec4168",
   "metadata": {
    "tags": []
   },
   "outputs": [
    {
     "name": "stdout",
     "output_type": "stream",
     "text": [
      "this string is > 1: combine\n",
      "this string is > 1: combine\n",
      "this string is > 1: ombine\n",
      "this string is > 1: mbine\n",
      "this string is > 1: bine\n",
      "this string is > 1: ine\n",
      "this string is > 1: ne\n",
      "this string is returned: e\n",
      "this string is returned: ne\n",
      "this string is returned: ine\n",
      "this string is returned: bine\n",
      "this string is returned: mbine\n",
      "this string is returned: ombine\n",
      "this string is returned: combine\n",
      "this string is returned: combine\n",
      "this string is > 1: combinations\n",
      "this string is > 1: combinations\n",
      "this string is > 1: ombinations\n",
      "this string is > 1: mbinations\n",
      "this string is > 1: binations\n",
      "this string is > 1: inations\n",
      "this string is > 1: nations\n",
      "this string is > 1: ations\n",
      "this string is > 1: ations\n",
      "this string is > 1: tions\n",
      "this string is > 1: ions\n",
      "this string is > 1: ons\n",
      "this string is > 1: ns\n",
      "this string is returned: s\n",
      "this string is returned: ns\n",
      "this string is returned: ons\n",
      "this string is returned: ions\n",
      "this string is returned: tions\n",
      "this string is returned: ations\n",
      "this string is returned: ations\n",
      "this string is returned: nations\n",
      "this string is returned: inations\n",
      "this string is returned: binations\n",
      "this string is returned: mbinations\n",
      "this string is returned: ombinations\n",
      "this string is returned: combinations\n",
      "this string is returned: combinations\n",
      "this string is > 1: combination\n",
      "this string is > 1: combination\n",
      "this string is > 1: ombination\n",
      "this string is > 1: mbination\n",
      "this string is > 1: bination\n",
      "this string is > 1: ination\n",
      "this string is > 1: nation\n",
      "this string is > 1: ation\n",
      "this string is > 1: ation\n",
      "this string is > 1: tion\n",
      "this string is > 1: ion\n",
      "this string is > 1: on\n",
      "this string is returned: n\n",
      "this string is returned: on\n",
      "this string is returned: ion\n",
      "this string is returned: tion\n",
      "this string is returned: ation\n",
      "this string is returned: ation\n",
      "this string is returned: nation\n",
      "this string is returned: ination\n",
      "this string is returned: bination\n",
      "this string is returned: mbination\n",
      "this string is returned: ombination\n",
      "this string is returned: combination\n",
      "this string is returned: combination\n",
      "this string is > 1: combined\n",
      "this string is > 1: combined\n",
      "this string is > 1: ombined\n",
      "this string is > 1: mbined\n",
      "this string is > 1: bined\n",
      "this string is > 1: ined\n",
      "this string is > 1: ned\n",
      "this string is > 1: ed\n",
      "this string is returned: d\n",
      "this string is returned: ed\n",
      "this string is returned: ned\n",
      "this string is returned: ined\n",
      "this string is returned: bined\n",
      "this string is returned: mbined\n",
      "this string is returned: ombined\n",
      "this string is returned: combined\n",
      "this string is returned: combined\n",
      "this string is > 1: combines\n",
      "this string is > 1: combines\n",
      "this string is > 1: ombines\n",
      "this string is > 1: mbines\n",
      "this string is > 1: bines\n",
      "this string is > 1: ines\n",
      "this string is > 1: nes\n",
      "this string is > 1: es\n",
      "this string is returned: s\n",
      "this string is returned: es\n",
      "this string is returned: nes\n",
      "this string is returned: ines\n",
      "this string is returned: bines\n",
      "this string is returned: mbines\n",
      "this string is returned: ombines\n",
      "this string is returned: combines\n",
      "this string is returned: combines\n",
      "this string is > 1: ducks\n",
      "this string is > 1: ducks\n",
      "this string is > 1: ucks\n",
      "this string is > 1: cks\n",
      "this string is > 1: ks\n",
      "this string is returned: s\n",
      "this string is returned: ks\n",
      "this string is returned: cks\n",
      "this string is returned: ucks\n",
      "this string is returned: ducks\n",
      "this string is returned: ducks\n",
      "this string is > 1: ducked\n",
      "this string is > 1: ducked\n",
      "this string is > 1: ucked\n",
      "this string is > 1: cked\n",
      "this string is > 1: ked\n",
      "this string is > 1: ed\n",
      "this string is > 1: ed\n",
      "this string is returned: d\n",
      "this string is returned: ed\n",
      "this string is returned: ed\n",
      "this string is returned: ked\n",
      "this string is returned: cked\n",
      "this string is returned: ucked\n",
      "this string is returned: ducked\n",
      "this string is returned: ducked\n",
      "this string is > 1: duck\n",
      "this string is > 1: duck\n",
      "this string is > 1: uck\n",
      "this string is > 1: ck\n",
      "this string is returned: k\n",
      "this string is returned: ck\n",
      "this string is returned: uck\n",
      "this string is returned: duck\n",
      "this string is returned: duck\n",
      "this string is > 1: futile\n",
      "this string is > 1: futile\n",
      "this string is > 1: futile\n",
      "this string is > 1: utile\n",
      "this string is > 1: tile\n",
      "this string is > 1: ile\n",
      "this string is > 1: le\n",
      "this string is returned: e\n",
      "this string is returned: le\n",
      "this string is returned: ile\n",
      "this string is returned: tile\n",
      "this string is returned: utile\n",
      "this string is returned: futile\n",
      "this string is returned: futile\n",
      "this string is returned: futile\n",
      "this string is > 1: futility\n",
      "this string is > 1: futility\n",
      "this string is > 1: futility\n",
      "this string is > 1: utility\n",
      "this string is > 1: tility\n",
      "this string is > 1: ility\n",
      "this string is > 1: lity\n",
      "this string is > 1: ity\n",
      "this string is > 1: ity\n",
      "this string is > 1: ty\n",
      "this string is returned: y\n",
      "this string is returned: ty\n",
      "this string is returned: ity\n",
      "this string is returned: ity\n",
      "this string is returned: lity\n",
      "this string is returned: ility\n",
      "this string is returned: tility\n",
      "this string is returned: utility\n",
      "this string is returned: futility\n",
      "this string is returned: futility\n",
      "this string is returned: futility\n",
      "this string is > 1: future\n",
      "this string is > 1: future\n",
      "this string is > 1: future\n",
      "this string is > 1: uture\n",
      "this string is > 1: ture\n",
      "this string is > 1: ure\n",
      "this string is > 1: ure\n",
      "this string is > 1: re\n",
      "this string is returned: e\n",
      "this string is returned: re\n",
      "this string is returned: ure\n",
      "this string is returned: ure\n",
      "this string is returned: ture\n",
      "this string is returned: uture\n",
      "this string is returned: future\n",
      "this string is returned: future\n",
      "this string is returned: future\n",
      "this string is > 1: fontain\n",
      "this string is > 1: fontain\n",
      "this string is > 1: fontain\n",
      "this string is > 1: ontain\n",
      "this string is > 1: ontain\n",
      "this string is > 1: ntain\n",
      "this string is > 1: tain\n",
      "this string is > 1: ain\n",
      "this string is > 1: in\n",
      "this string is returned: n\n",
      "this string is returned: in\n",
      "this string is returned: ain\n",
      "this string is returned: tain\n",
      "this string is returned: ntain\n",
      "this string is returned: ontain\n",
      "this string is returned: ontain\n",
      "this string is returned: fontain\n",
      "this string is returned: fontain\n",
      "this string is returned: fontain\n",
      "this string is > 1: font\n",
      "this string is > 1: font\n",
      "this string is > 1: font\n",
      "this string is > 1: ont\n",
      "this string is > 1: ont\n",
      "this string is > 1: nt\n",
      "this string is returned: t\n",
      "this string is returned: nt\n",
      "this string is returned: ont\n",
      "this string is returned: ont\n",
      "this string is returned: font\n",
      "this string is returned: font\n",
      "this string is returned: font\n",
      "this string is > 1: far\n",
      "this string is > 1: far\n",
      "this string is > 1: far\n",
      "this string is > 1: ar\n",
      "this string is > 1: ar\n",
      "this string is > 1: ar\n",
      "this string is returned: r\n",
      "this string is returned: ar\n",
      "this string is returned: ar\n",
      "this string is returned: ar\n",
      "this string is returned: far\n",
      "this string is returned: far\n",
      "this string is returned: far\n",
      "this string is returned: a\n",
      "this string is > 1: the\n",
      "this string is > 1: the\n",
      "this string is > 1: the\n",
      "this string is > 1: the\n",
      "this string is > 1: he\n",
      "this string is returned: e\n",
      "this string is returned: he\n",
      "this string is returned: the\n",
      "this string is returned: the\n",
      "this string is returned: the\n",
      "this string is returned: the\n",
      "this string is > 1: their\n",
      "this string is > 1: their\n",
      "this string is > 1: their\n",
      "this string is > 1: their\n",
      "this string is > 1: heir\n",
      "this string is > 1: eir\n",
      "this string is > 1: ir\n",
      "this string is returned: r\n",
      "this string is returned: ir\n",
      "this string is returned: eir\n",
      "this string is returned: heir\n",
      "this string is returned: their\n",
      "this string is returned: their\n",
      "this string is returned: their\n",
      "this string is returned: their\n",
      "this string is > 1: therefor\n",
      "this string is > 1: therefor\n",
      "this string is > 1: therefor\n",
      "this string is > 1: therefor\n",
      "this string is > 1: herefor\n",
      "this string is > 1: erefor\n",
      "this string is > 1: refor\n",
      "this string is > 1: refor\n",
      "this string is > 1: efor\n",
      "this string is > 1: for\n",
      "this string is > 1: or\n",
      "this string is returned: r\n",
      "this string is returned: or\n",
      "this string is returned: for\n",
      "this string is returned: efor\n",
      "this string is returned: refor\n",
      "this string is returned: refor\n",
      "this string is returned: erefor\n",
      "this string is returned: herefor\n",
      "this string is returned: therefor\n",
      "this string is returned: therefor\n",
      "this string is returned: therefor\n",
      "this string is returned: therefor\n",
      "this string is > 1: there\n",
      "this string is > 1: there\n",
      "this string is > 1: there\n",
      "this string is > 1: there\n",
      "this string is > 1: here\n",
      "this string is > 1: ere\n",
      "this string is > 1: re\n",
      "this string is > 1: re\n",
      "this string is returned: e\n",
      "this string is returned: re\n",
      "this string is returned: re\n",
      "this string is returned: ere\n",
      "this string is returned: here\n",
      "this string is returned: there\n",
      "this string is returned: there\n",
      "this string is returned: there\n",
      "this string is returned: there\n",
      "this string is > 1: bomb\n",
      "this string is > 1: bomb\n",
      "this string is > 1: bomb\n",
      "this string is > 1: omb\n",
      "this string is > 1: mb\n",
      "this string is returned: b\n",
      "this string is returned: mb\n",
      "this string is returned: omb\n",
      "this string is returned: bomb\n",
      "this string is returned: bomb\n",
      "this string is returned: bomb\n",
      "this string is > 1: futile\n",
      "this string is > 1: futile\n",
      "this string is > 1: futile\n",
      "this string is > 1: utile\n",
      "this string is > 1: tile\n",
      "this string is > 1: ile\n",
      "this string is > 1: le\n",
      "this string is returned: e\n",
      "this string is returned: le\n",
      "this string is returned: ile\n",
      "this string is returned: tile\n",
      "this string is returned: utile\n",
      "this string is returned: futile\n",
      "this string is returned: futile\n",
      "this string is returned: futile\n",
      "this string is > 1: there\n",
      "this string is > 1: there\n",
      "this string is > 1: there\n",
      "this string is > 1: there\n",
      "this string is > 1: here\n",
      "this string is > 1: ere\n",
      "this string is > 1: re\n",
      "this string is > 1: re\n",
      "this string is returned: e\n",
      "this string is returned: re\n",
      "this string is returned: re\n",
      "this string is returned: ere\n",
      "this string is returned: here\n",
      "this string is returned: there\n",
      "this string is returned: there\n",
      "this string is returned: there\n",
      "this string is returned: there\n"
     ]
    }
   ],
   "source": [
    "tst = TernarySearchTree()\n",
    "with open('data/search_trees/insert_words.txt') as file:\n",
    "    words = [\n",
    "        line.strip() for line in file\n",
    "    ]\n",
    "for word in words:\n",
    "    tst.insert(word)\n",
    "unique_words = set(words)"
   ]
  },
  {
   "cell_type": "markdown",
   "id": "09ff039a-3780-4ef8-bed7-e6da0715800a",
   "metadata": {},
   "source": [
    "Verify the length of the data stucture."
   ]
  },
  {
   "cell_type": "code",
   "execution_count": 182,
   "id": "18090742-7a3a-400a-a077-e2904901a123",
   "metadata": {
    "tags": []
   },
   "outputs": [
    {
     "name": "stdout",
     "output_type": "stream",
     "text": [
      "printing length of combine*\n",
      "printing length of combine*\n"
     ]
    },
    {
     "ename": "AssertionError",
     "evalue": "19 in tree, expected 20",
     "output_type": "error",
     "traceback": [
      "\u001b[1;31m---------------------------------------------------------------------------\u001b[0m",
      "\u001b[1;31mAssertionError\u001b[0m                            Traceback (most recent call last)",
      "Cell \u001b[1;32mIn[182], line 1\u001b[0m\n\u001b[1;32m----> 1\u001b[0m \u001b[38;5;28;01massert\u001b[39;00m \u001b[38;5;28mlen\u001b[39m(tst) \u001b[38;5;241m==\u001b[39m \u001b[38;5;28mlen\u001b[39m(unique_words), \\\n\u001b[0;32m      2\u001b[0m        \u001b[38;5;124mf\u001b[39m\u001b[38;5;124m'\u001b[39m\u001b[38;5;132;01m{\u001b[39;00m\u001b[38;5;28mlen\u001b[39m(tst)\u001b[38;5;132;01m}\u001b[39;00m\u001b[38;5;124m in tree, expected \u001b[39m\u001b[38;5;132;01m{\u001b[39;00m\u001b[38;5;28mlen\u001b[39m(unique_words)\u001b[38;5;132;01m}\u001b[39;00m\u001b[38;5;124m'\u001b[39m\n",
      "\u001b[1;31mAssertionError\u001b[0m: 19 in tree, expected 20"
     ]
    }
   ],
   "source": [
    "assert len(tst) == len(unique_words), \\\n",
    "       f'{len(tst)} in tree, expected {len(unique_words)}'"
   ]
  },
  {
   "cell_type": "markdown",
   "id": "3715acd0-09b0-4d1d-9b1b-c33c7cca6ec9",
   "metadata": {},
   "source": [
    "Verify that all words that were inserted can be found."
   ]
  },
  {
   "cell_type": "code",
   "execution_count": null,
   "id": "83fd3f2d-13ef-4cf9-9631-2f7550939efb",
   "metadata": {
    "tags": []
   },
   "outputs": [
    {
     "name": "stdout",
     "output_type": "stream",
     "text": [
      "searching for char f at node c\n",
      "searching for char f at node d\n",
      "searching for char f at node f\n",
      "searching for char o at node u\n",
      "searching for char o at node o\n",
      "searching for char n at node n\n",
      "searching for char t at node t\n",
      "searching for char a at node a\n",
      "searching for char i at node i\n",
      "searching for char n at node n\n",
      "searching for char c at node c\n",
      "searching for char o at node o\n",
      "searching for char m at node m\n",
      "searching for char b at node b\n",
      "searching for char i at node i\n",
      "searching for char n at node n\n",
      "searching for char e at node e\n",
      "searching for char c at node c\n",
      "searching for char o at node o\n",
      "searching for char m at node m\n",
      "searching for char b at node b\n",
      "searching for char i at node i\n",
      "searching for char n at node n\n",
      "searching for char e at node e\n",
      "searching for char d at node d\n",
      "searching for char f at node c\n",
      "searching for char f at node d\n",
      "searching for char f at node f\n",
      "searching for char u at node u\n",
      "searching for char t at node t\n",
      "searching for char i at node i\n",
      "searching for char l at node l\n",
      "searching for char i at node e\n",
      "searching for char i at node i\n",
      "searching for char t at node t\n",
      "searching for char y at node y\n",
      "searching for char c at node c\n",
      "searching for char o at node o\n",
      "searching for char m at node m\n",
      "searching for char b at node b\n",
      "searching for char i at node i\n",
      "searching for char n at node n\n",
      "searching for char e at node e\n",
      "searching for char s at node d\n"
     ]
    },
    {
     "ename": "AssertionError",
     "evalue": "combines not found",
     "output_type": "error",
     "traceback": [
      "\u001b[31m---------------------------------------------------------------------------\u001b[39m",
      "\u001b[31mAssertionError\u001b[39m                            Traceback (most recent call last)",
      "\u001b[36mCell\u001b[39m\u001b[36m \u001b[39m\u001b[32mIn[23]\u001b[39m\u001b[32m, line 2\u001b[39m\n\u001b[32m      1\u001b[39m \u001b[38;5;28;01mfor\u001b[39;00m word \u001b[38;5;129;01min\u001b[39;00m unique_words:\n\u001b[32m----> \u001b[39m\u001b[32m2\u001b[39m     \u001b[38;5;28;01massert\u001b[39;00m tst.search(word), \u001b[33mf\u001b[39m\u001b[33m'\u001b[39m\u001b[38;5;132;01m{\u001b[39;00mword\u001b[38;5;132;01m}\u001b[39;00m\u001b[33m not found\u001b[39m\u001b[33m'\u001b[39m\n",
      "\u001b[31mAssertionError\u001b[39m: combines not found"
     ]
    }
   ],
   "source": [
    "for word in unique_words:\n",
    "    assert tst.search(word), f'{word} not found'"
   ]
  },
  {
   "cell_type": "markdown",
   "id": "914240b6-1980-4436-9596-991258aac0d1",
   "metadata": {},
   "source": [
    "Verify that all prefixes can be found.\n",
    "Needs to be modified"
   ]
  },
  {
   "cell_type": "code",
   "execution_count": null,
   "id": "7b320bc5-d544-4aa2-82f7-549eef526757",
   "metadata": {
    "tags": []
   },
   "outputs": [
    {
     "name": "stdout",
     "output_type": "stream",
     "text": [
      "searching for char f at node c\n",
      "searching for char f at node d\n",
      "searching for char f at node f\n",
      "searching for char o at node u\n",
      "searching for char o at node o\n",
      "searching for char n at node n\n",
      "searching for char t at node t\n",
      "searching for char a at node a\n",
      "searching for char i at node i\n",
      "searching for char f at node c\n",
      "searching for char f at node d\n",
      "searching for char f at node f\n",
      "searching for char o at node u\n",
      "searching for char o at node o\n",
      "searching for char n at node n\n",
      "searching for char t at node t\n",
      "searching for char a at node a\n",
      "searching for char f at node c\n",
      "searching for char f at node d\n",
      "searching for char f at node f\n",
      "searching for char o at node u\n",
      "searching for char o at node o\n",
      "searching for char n at node n\n",
      "searching for char t at node t\n",
      "searching for char f at node c\n",
      "searching for char f at node d\n",
      "searching for char f at node f\n",
      "searching for char o at node u\n",
      "searching for char o at node o\n",
      "searching for char n at node n\n",
      "searching for char f at node c\n",
      "searching for char f at node d\n",
      "searching for char f at node f\n",
      "searching for char o at node u\n",
      "searching for char o at node o\n",
      "searching for char f at node c\n",
      "searching for char f at node d\n",
      "searching for char f at node f\n",
      "searching for char c at node c\n",
      "searching for char o at node o\n",
      "searching for char m at node m\n",
      "searching for char b at node b\n",
      "searching for char i at node i\n",
      "searching for char n at node n\n",
      "searching for char c at node c\n",
      "searching for char o at node o\n",
      "searching for char m at node m\n",
      "searching for char b at node b\n",
      "searching for char i at node i\n",
      "searching for char c at node c\n",
      "searching for char o at node o\n",
      "searching for char m at node m\n",
      "searching for char b at node b\n",
      "searching for char c at node c\n",
      "searching for char o at node o\n",
      "searching for char m at node m\n",
      "searching for char c at node c\n",
      "searching for char o at node o\n",
      "searching for char c at node c\n",
      "searching for char c at node c\n",
      "searching for char o at node o\n",
      "searching for char m at node m\n",
      "searching for char b at node b\n",
      "searching for char i at node i\n",
      "searching for char n at node n\n",
      "searching for char e at node e\n",
      "searching for char c at node c\n",
      "searching for char o at node o\n",
      "searching for char m at node m\n",
      "searching for char b at node b\n",
      "searching for char i at node i\n",
      "searching for char n at node n\n",
      "searching for char c at node c\n",
      "searching for char o at node o\n",
      "searching for char m at node m\n",
      "searching for char b at node b\n",
      "searching for char i at node i\n",
      "searching for char c at node c\n",
      "searching for char o at node o\n",
      "searching for char m at node m\n",
      "searching for char b at node b\n",
      "searching for char c at node c\n",
      "searching for char o at node o\n",
      "searching for char m at node m\n",
      "searching for char c at node c\n",
      "searching for char o at node o\n",
      "searching for char c at node c\n",
      "searching for char f at node c\n",
      "searching for char f at node d\n",
      "searching for char f at node f\n",
      "searching for char u at node u\n",
      "searching for char t at node t\n",
      "searching for char i at node i\n",
      "searching for char l at node l\n",
      "searching for char i at node e\n",
      "searching for char i at node i\n",
      "searching for char t at node t\n",
      "searching for char f at node c\n",
      "searching for char f at node d\n",
      "searching for char f at node f\n",
      "searching for char u at node u\n",
      "searching for char t at node t\n",
      "searching for char i at node i\n",
      "searching for char l at node l\n",
      "searching for char i at node e\n",
      "searching for char i at node i\n",
      "searching for char f at node c\n",
      "searching for char f at node d\n",
      "searching for char f at node f\n",
      "searching for char u at node u\n",
      "searching for char t at node t\n",
      "searching for char i at node i\n",
      "searching for char l at node l\n",
      "searching for char f at node c\n",
      "searching for char f at node d\n",
      "searching for char f at node f\n",
      "searching for char u at node u\n",
      "searching for char t at node t\n",
      "searching for char i at node i\n",
      "searching for char f at node c\n",
      "searching for char f at node d\n",
      "searching for char f at node f\n",
      "searching for char u at node u\n",
      "searching for char t at node t\n",
      "searching for char f at node c\n",
      "searching for char f at node d\n",
      "searching for char f at node f\n",
      "searching for char u at node u\n",
      "searching for char f at node c\n",
      "searching for char f at node d\n",
      "searching for char f at node f\n",
      "searching for char c at node c\n",
      "searching for char o at node o\n",
      "searching for char m at node m\n",
      "searching for char b at node b\n",
      "searching for char i at node i\n",
      "searching for char n at node n\n",
      "searching for char e at node e\n",
      "searching for char c at node c\n",
      "searching for char o at node o\n",
      "searching for char m at node m\n",
      "searching for char b at node b\n",
      "searching for char i at node i\n",
      "searching for char n at node n\n",
      "searching for char c at node c\n",
      "searching for char o at node o\n",
      "searching for char m at node m\n",
      "searching for char b at node b\n",
      "searching for char i at node i\n",
      "searching for char c at node c\n",
      "searching for char o at node o\n",
      "searching for char m at node m\n",
      "searching for char b at node b\n",
      "searching for char c at node c\n",
      "searching for char o at node o\n",
      "searching for char m at node m\n",
      "searching for char c at node c\n",
      "searching for char o at node o\n",
      "searching for char c at node c\n",
      "searching for char t at node c\n",
      "searching for char t at node d\n",
      "searching for char t at node f\n",
      "searching for char t at node t\n",
      "searching for char h at node h\n",
      "searching for char e at node e\n",
      "searching for char i at node i\n",
      "searching for char t at node c\n",
      "searching for char t at node d\n",
      "searching for char t at node f\n",
      "searching for char t at node t\n",
      "searching for char h at node h\n",
      "searching for char e at node e\n",
      "searching for char t at node c\n",
      "searching for char t at node d\n",
      "searching for char t at node f\n",
      "searching for char t at node t\n",
      "searching for char h at node h\n",
      "searching for char t at node c\n",
      "searching for char t at node d\n",
      "searching for char t at node f\n",
      "searching for char t at node t\n",
      "searching for char b at node c\n",
      "searching for char b at node b\n",
      "searching for char o at node o\n",
      "searching for char m at node m\n",
      "searching for char b at node c\n",
      "searching for char b at node b\n",
      "searching for char o at node o\n",
      "searching for char b at node c\n",
      "searching for char b at node b\n",
      "searching for char d at node c\n",
      "searching for char d at node d\n",
      "searching for char u at node u\n",
      "searching for char c at node c\n",
      "searching for char d at node c\n",
      "searching for char d at node d\n",
      "searching for char u at node u\n",
      "searching for char d at node c\n",
      "searching for char d at node d\n",
      "searching for char d at node c\n",
      "searching for char d at node d\n",
      "searching for char u at node u\n",
      "searching for char c at node c\n",
      "searching for char k at node k\n",
      "searching for char e at node s\n",
      "searching for char e at node e\n",
      "searching for char d at node c\n",
      "searching for char d at node d\n",
      "searching for char u at node u\n",
      "searching for char c at node c\n",
      "searching for char k at node k\n",
      "searching for char d at node c\n",
      "searching for char d at node d\n",
      "searching for char u at node u\n",
      "searching for char c at node c\n",
      "searching for char d at node c\n",
      "searching for char d at node d\n",
      "searching for char u at node u\n",
      "searching for char d at node c\n",
      "searching for char d at node d\n",
      "searching for char f at node c\n",
      "searching for char f at node d\n",
      "searching for char f at node f\n",
      "searching for char o at node u\n",
      "searching for char o at node o\n",
      "searching for char n at node n\n",
      "searching for char f at node c\n",
      "searching for char f at node d\n",
      "searching for char f at node f\n",
      "searching for char o at node u\n",
      "searching for char o at node o\n",
      "searching for char f at node c\n",
      "searching for char f at node d\n",
      "searching for char f at node f\n",
      "searching for char t at node c\n",
      "searching for char t at node d\n",
      "searching for char t at node f\n",
      "searching for char t at node t\n",
      "searching for char h at node h\n",
      "searching for char t at node c\n",
      "searching for char t at node d\n",
      "searching for char t at node f\n",
      "searching for char t at node t\n",
      "searching for char t at node c\n",
      "searching for char t at node d\n",
      "searching for char t at node f\n",
      "searching for char t at node t\n",
      "searching for char h at node h\n",
      "searching for char e at node e\n",
      "searching for char r at node i\n",
      "searching for char r at node r\n",
      "searching for char t at node c\n",
      "searching for char t at node d\n",
      "searching for char t at node f\n",
      "searching for char t at node t\n",
      "searching for char h at node h\n",
      "searching for char e at node e\n",
      "searching for char t at node c\n",
      "searching for char t at node d\n",
      "searching for char t at node f\n",
      "searching for char t at node t\n",
      "searching for char h at node h\n",
      "searching for char t at node c\n",
      "searching for char t at node d\n",
      "searching for char t at node f\n",
      "searching for char t at node t\n",
      "searching for char d at node c\n",
      "searching for char d at node d\n",
      "searching for char u at node u\n",
      "searching for char c at node c\n",
      "searching for char k at node k\n",
      "searching for char d at node c\n",
      "searching for char d at node d\n",
      "searching for char u at node u\n",
      "searching for char c at node c\n",
      "searching for char d at node c\n",
      "searching for char d at node d\n",
      "searching for char u at node u\n",
      "searching for char d at node c\n",
      "searching for char d at node d\n",
      "searching for char t at node c\n",
      "searching for char t at node d\n",
      "searching for char t at node f\n",
      "searching for char t at node t\n",
      "searching for char h at node h\n",
      "searching for char e at node e\n",
      "searching for char r at node i\n",
      "searching for char r at node r\n",
      "searching for char e at node e\n",
      "searching for char f at node f\n",
      "searching for char o at node o\n",
      "searching for char t at node c\n",
      "searching for char t at node d\n",
      "searching for char t at node f\n",
      "searching for char t at node t\n",
      "searching for char h at node h\n",
      "searching for char e at node e\n",
      "searching for char r at node i\n",
      "searching for char r at node r\n",
      "searching for char e at node e\n",
      "searching for char f at node f\n",
      "searching for char t at node c\n",
      "searching for char t at node d\n",
      "searching for char t at node f\n",
      "searching for char t at node t\n",
      "searching for char h at node h\n",
      "searching for char e at node e\n",
      "searching for char r at node i\n",
      "searching for char r at node r\n",
      "searching for char e at node e\n",
      "searching for char t at node c\n",
      "searching for char t at node d\n",
      "searching for char t at node f\n",
      "searching for char t at node t\n",
      "searching for char h at node h\n",
      "searching for char e at node e\n",
      "searching for char r at node i\n",
      "searching for char r at node r\n",
      "searching for char t at node c\n",
      "searching for char t at node d\n",
      "searching for char t at node f\n",
      "searching for char t at node t\n",
      "searching for char h at node h\n",
      "searching for char e at node e\n",
      "searching for char t at node c\n",
      "searching for char t at node d\n",
      "searching for char t at node f\n",
      "searching for char t at node t\n",
      "searching for char h at node h\n",
      "searching for char t at node c\n",
      "searching for char t at node d\n",
      "searching for char t at node f\n",
      "searching for char t at node t\n",
      "searching for char c at node c\n",
      "searching for char o at node o\n",
      "searching for char m at node m\n",
      "searching for char b at node b\n",
      "searching for char i at node i\n",
      "searching for char n at node n\n",
      "searching for char a at node e\n",
      "searching for char a at node a\n",
      "searching for char t at node t\n",
      "searching for char i at node i\n",
      "searching for char o at node o\n",
      "searching for char n at node n\n",
      "searching for char c at node c\n",
      "searching for char o at node o\n",
      "searching for char m at node m\n",
      "searching for char b at node b\n",
      "searching for char i at node i\n",
      "searching for char n at node n\n",
      "searching for char a at node e\n",
      "searching for char a at node a\n",
      "searching for char t at node t\n",
      "searching for char i at node i\n",
      "searching for char o at node o\n",
      "searching for char c at node c\n",
      "searching for char o at node o\n",
      "searching for char m at node m\n",
      "searching for char b at node b\n",
      "searching for char i at node i\n",
      "searching for char n at node n\n",
      "searching for char a at node e\n",
      "searching for char a at node a\n",
      "searching for char t at node t\n",
      "searching for char i at node i\n",
      "searching for char c at node c\n",
      "searching for char o at node o\n",
      "searching for char m at node m\n",
      "searching for char b at node b\n",
      "searching for char i at node i\n",
      "searching for char n at node n\n",
      "searching for char a at node e\n",
      "searching for char a at node a\n",
      "searching for char t at node t\n",
      "searching for char c at node c\n",
      "searching for char o at node o\n",
      "searching for char m at node m\n",
      "searching for char b at node b\n",
      "searching for char i at node i\n",
      "searching for char n at node n\n",
      "searching for char a at node e\n",
      "searching for char a at node a\n",
      "searching for char c at node c\n",
      "searching for char o at node o\n",
      "searching for char m at node m\n",
      "searching for char b at node b\n",
      "searching for char i at node i\n",
      "searching for char n at node n\n",
      "searching for char c at node c\n",
      "searching for char o at node o\n",
      "searching for char m at node m\n",
      "searching for char b at node b\n",
      "searching for char i at node i\n",
      "searching for char c at node c\n",
      "searching for char o at node o\n",
      "searching for char m at node m\n",
      "searching for char b at node b\n",
      "searching for char c at node c\n",
      "searching for char o at node o\n",
      "searching for char m at node m\n",
      "searching for char c at node c\n",
      "searching for char o at node o\n",
      "searching for char c at node c\n",
      "searching for char c at node c\n",
      "searching for char o at node o\n",
      "searching for char m at node m\n",
      "searching for char b at node b\n",
      "searching for char i at node i\n",
      "searching for char n at node n\n",
      "searching for char a at node e\n",
      "searching for char a at node a\n",
      "searching for char t at node t\n",
      "searching for char i at node i\n",
      "searching for char o at node o\n",
      "searching for char c at node c\n",
      "searching for char o at node o\n",
      "searching for char m at node m\n",
      "searching for char b at node b\n",
      "searching for char i at node i\n",
      "searching for char n at node n\n",
      "searching for char a at node e\n",
      "searching for char a at node a\n",
      "searching for char t at node t\n",
      "searching for char i at node i\n",
      "searching for char c at node c\n",
      "searching for char o at node o\n",
      "searching for char m at node m\n",
      "searching for char b at node b\n",
      "searching for char i at node i\n",
      "searching for char n at node n\n",
      "searching for char a at node e\n",
      "searching for char a at node a\n",
      "searching for char t at node t\n",
      "searching for char c at node c\n",
      "searching for char o at node o\n",
      "searching for char m at node m\n",
      "searching for char b at node b\n",
      "searching for char i at node i\n",
      "searching for char n at node n\n",
      "searching for char a at node e\n",
      "searching for char a at node a\n",
      "searching for char c at node c\n",
      "searching for char o at node o\n",
      "searching for char m at node m\n",
      "searching for char b at node b\n",
      "searching for char i at node i\n",
      "searching for char n at node n\n",
      "searching for char c at node c\n",
      "searching for char o at node o\n",
      "searching for char m at node m\n",
      "searching for char b at node b\n",
      "searching for char i at node i\n",
      "searching for char c at node c\n",
      "searching for char o at node o\n",
      "searching for char m at node m\n",
      "searching for char b at node b\n",
      "searching for char c at node c\n",
      "searching for char o at node o\n",
      "searching for char m at node m\n",
      "searching for char c at node c\n",
      "searching for char o at node o\n",
      "searching for char c at node c\n",
      "searching for char f at node c\n",
      "searching for char f at node d\n",
      "searching for char f at node f\n",
      "searching for char u at node u\n",
      "searching for char t at node t\n",
      "searching for char u at node i\n",
      "searching for char u at node u\n",
      "searching for char r at node r\n",
      "searching for char f at node c\n",
      "searching for char f at node d\n",
      "searching for char f at node f\n",
      "searching for char u at node u\n",
      "searching for char t at node t\n",
      "searching for char u at node i\n",
      "searching for char u at node u\n",
      "searching for char f at node c\n",
      "searching for char f at node d\n",
      "searching for char f at node f\n",
      "searching for char u at node u\n",
      "searching for char t at node t\n",
      "searching for char f at node c\n",
      "searching for char f at node d\n",
      "searching for char f at node f\n",
      "searching for char u at node u\n",
      "searching for char f at node c\n",
      "searching for char f at node d\n",
      "searching for char f at node f\n",
      "searching for char f at node c\n",
      "searching for char f at node d\n",
      "searching for char f at node f\n",
      "searching for char a at node u\n",
      "searching for char a at node o\n",
      "searching for char a at node a\n",
      "searching for char f at node c\n",
      "searching for char f at node d\n",
      "searching for char f at node f\n",
      "searching for char f at node c\n",
      "searching for char f at node d\n",
      "searching for char f at node f\n",
      "searching for char u at node u\n",
      "searching for char t at node t\n",
      "searching for char i at node i\n",
      "searching for char l at node l\n",
      "searching for char f at node c\n",
      "searching for char f at node d\n",
      "searching for char f at node f\n",
      "searching for char u at node u\n",
      "searching for char t at node t\n",
      "searching for char i at node i\n",
      "searching for char f at node c\n",
      "searching for char f at node d\n",
      "searching for char f at node f\n",
      "searching for char u at node u\n",
      "searching for char t at node t\n",
      "searching for char f at node c\n",
      "searching for char f at node d\n",
      "searching for char f at node f\n",
      "searching for char u at node u\n",
      "searching for char f at node c\n",
      "searching for char f at node d\n",
      "searching for char f at node f\n"
     ]
    }
   ],
   "source": [
    "for word in unique_words:\n",
    "    for i in range(len(word) - 1, 0, -1):\n",
    "        prefix = word[:i]\n",
    "        assert tst.search(prefix), f'{prefix} not found'"
   ]
  },
  {
   "cell_type": "markdown",
   "id": "5e67261a-0260-451c-b975-5406458b7fc9",
   "metadata": {},
   "source": [
    "Check that when searching for a exact match, only the inserted words are found, and no prefixes.\n",
    "Check exact=True"
   ]
  },
  {
   "cell_type": "code",
   "execution_count": null,
   "id": "c15f2bf1-e026-468d-86f1-b7bf7d4857a0",
   "metadata": {
    "tags": []
   },
   "outputs": [
    {
     "name": "stdout",
     "output_type": "stream",
     "text": [
      "searching for char f at node c\n",
      "searching for char f at node d\n",
      "searching for char f at node f\n",
      "searching for char o at node u\n",
      "searching for char o at node o\n",
      "searching for char n at node n\n",
      "searching for char t at node t\n",
      "searching for char a at node a\n",
      "searching for char i at node i\n",
      "searching for char f at node c\n",
      "searching for char f at node d\n",
      "searching for char f at node f\n",
      "searching for char o at node u\n",
      "searching for char o at node o\n",
      "searching for char n at node n\n",
      "searching for char t at node t\n",
      "searching for char a at node a\n",
      "searching for char f at node c\n",
      "searching for char f at node d\n",
      "searching for char f at node f\n",
      "searching for char o at node u\n",
      "searching for char o at node o\n",
      "searching for char n at node n\n",
      "searching for char f at node c\n",
      "searching for char f at node d\n",
      "searching for char f at node f\n",
      "searching for char o at node u\n",
      "searching for char o at node o\n",
      "searching for char f at node c\n",
      "searching for char f at node d\n",
      "searching for char f at node f\n",
      "searching for char c at node c\n",
      "searching for char o at node o\n",
      "searching for char m at node m\n",
      "searching for char b at node b\n",
      "searching for char i at node i\n",
      "searching for char n at node n\n",
      "searching for char c at node c\n",
      "searching for char o at node o\n",
      "searching for char m at node m\n",
      "searching for char b at node b\n",
      "searching for char i at node i\n",
      "searching for char c at node c\n",
      "searching for char o at node o\n",
      "searching for char m at node m\n",
      "searching for char b at node b\n",
      "searching for char c at node c\n",
      "searching for char o at node o\n",
      "searching for char m at node m\n",
      "searching for char c at node c\n",
      "searching for char o at node o\n",
      "searching for char c at node c\n"
     ]
    },
    {
     "ename": "AssertionError",
     "evalue": "c found",
     "output_type": "error",
     "traceback": [
      "\u001b[31m---------------------------------------------------------------------------\u001b[39m",
      "\u001b[31mAssertionError\u001b[39m                            Traceback (most recent call last)",
      "\u001b[36mCell\u001b[39m\u001b[36m \u001b[39m\u001b[32mIn[25]\u001b[39m\u001b[32m, line 5\u001b[39m\n\u001b[32m      3\u001b[39m prefix = word[:i]\n\u001b[32m      4\u001b[39m \u001b[38;5;28;01mif\u001b[39;00m prefix \u001b[38;5;129;01mnot\u001b[39;00m \u001b[38;5;129;01min\u001b[39;00m unique_words:\n\u001b[32m----> \u001b[39m\u001b[32m5\u001b[39m     \u001b[38;5;28;01massert\u001b[39;00m \u001b[38;5;129;01mnot\u001b[39;00m tst.search(prefix, exact=\u001b[38;5;28;01mTrue\u001b[39;00m), \\\n\u001b[32m      6\u001b[39m            \u001b[33mf\u001b[39m\u001b[33m'\u001b[39m\u001b[38;5;132;01m{\u001b[39;00mprefix\u001b[38;5;132;01m}\u001b[39;00m\u001b[33m found\u001b[39m\u001b[33m'\u001b[39m\n",
      "\u001b[31mAssertionError\u001b[39m: c found"
     ]
    }
   ],
   "source": [
    "for word in unique_words:\n",
    "    for i in range(len(word), 0, -1):\n",
    "        prefix = word[:i]\n",
    "        if prefix not in unique_words:\n",
    "            assert not tst.search(prefix, exact=True), \\\n",
    "                   f'{prefix} found'"
   ]
  },
  {
   "cell_type": "markdown",
   "id": "63ce21af-9e38-473e-9bfa-572fc00beb7d",
   "metadata": {},
   "source": [
    "Check that the empty string is in the tree (since it is a prefix of any string)."
   ]
  },
  {
   "cell_type": "code",
   "execution_count": null,
   "id": "02796895-029a-4f1f-aebe-19315b5a7964",
   "metadata": {
    "tags": []
   },
   "outputs": [
    {
     "name": "stdout",
     "output_type": "stream",
     "text": [
      "searching for char  at node c\n",
      "searching for char  at node b\n"
     ]
    },
    {
     "ename": "AssertionError",
     "evalue": "empty string not found",
     "output_type": "error",
     "traceback": [
      "\u001b[31m---------------------------------------------------------------------------\u001b[39m",
      "\u001b[31mAssertionError\u001b[39m                            Traceback (most recent call last)",
      "\u001b[36mCell\u001b[39m\u001b[36m \u001b[39m\u001b[32mIn[26]\u001b[39m\u001b[32m, line 1\u001b[39m\n\u001b[32m----> \u001b[39m\u001b[32m1\u001b[39m \u001b[38;5;28;01massert\u001b[39;00m tst.search(\u001b[33m'\u001b[39m\u001b[33m'\u001b[39m), \u001b[33m'\u001b[39m\u001b[33mempty string not found\u001b[39m\u001b[33m'\u001b[39m\n",
      "\u001b[31mAssertionError\u001b[39m: empty string not found"
     ]
    }
   ],
   "source": [
    "assert tst.search(''), 'empty string not found'"
   ]
  },
  {
   "cell_type": "markdown",
   "id": "21485551-72ef-448f-a473-8fd94063a98a",
   "metadata": {},
   "source": [
    "Check that the empty string is not in the tree for an exact search.\n",
    "exact argument"
   ]
  },
  {
   "cell_type": "code",
   "execution_count": null,
   "id": "b3f7943c-ccc0-414a-a4bd-90398a09a829",
   "metadata": {
    "tags": []
   },
   "outputs": [
    {
     "name": "stdout",
     "output_type": "stream",
     "text": [
      "searching for char  at node c\n",
      "searching for char  at node b\n"
     ]
    }
   ],
   "source": [
    "assert not tst.search('', exact=True), 'empty string found'"
   ]
  },
  {
   "cell_type": "markdown",
   "id": "122ef82d-a23d-4245-899f-b070e0b13b0a",
   "metadata": {},
   "source": [
    "Check that words in the file `data/search_trees/not_insert_words.txt` can not be found in the tree."
   ]
  },
  {
   "cell_type": "code",
   "execution_count": null,
   "id": "90ea39d5-5c96-4e79-8dc8-80c55de1cea2",
   "metadata": {
    "tags": []
   },
   "outputs": [
    {
     "name": "stdout",
     "output_type": "stream",
     "text": [
      "searching for char f at node c\n",
      "searching for char f at node d\n",
      "searching for char f at node f\n",
      "searching for char u at node u\n",
      "searching for char t at node t\n",
      "searching for char u at node i\n",
      "searching for char u at node u\n",
      "searching for char r at node r\n",
      "searching for char e at node e\n",
      "searching for char f at node c\n",
      "searching for char f at node d\n",
      "searching for char f at node f\n",
      "searching for char o at node u\n",
      "searching for char o at node o\n",
      "searching for char n at node n\n",
      "searching for char t at node t\n",
      "searching for char a at node a\n",
      "searching for char i at node i\n",
      "searching for char n at node n\n",
      "searching for char a at node c\n",
      "searching for char a at node b\n",
      "searching for char g at node c\n",
      "searching for char g at node d\n",
      "searching for char g at node f\n",
      "searching for char g at node t\n",
      "searching for char m at node c\n",
      "searching for char m at node d\n",
      "searching for char m at node f\n",
      "searching for char m at node t\n",
      "searching for char t at node c\n",
      "searching for char t at node d\n",
      "searching for char t at node f\n",
      "searching for char t at node t\n",
      "searching for char e at node h\n"
     ]
    }
   ],
   "source": [
    "with open('data/search_trees/not_insert_words.txt') as file:\n",
    "    for line in file:\n",
    "        word = line.strip()\n",
    "        assert not tst.search(word), f'{word} should not be found'"
   ]
  },
  {
   "cell_type": "markdown",
   "id": "bc93c3f1-a829-484c-a11d-d598914c3b8f",
   "metadata": {},
   "source": [
    "Check that all strings are returned."
   ]
  },
  {
   "cell_type": "code",
   "execution_count": null,
   "id": "c09d0cab-02db-452e-8ac1-837e108ab63d",
   "metadata": {},
   "outputs": [
    {
     "ename": "AssertionError",
     "evalue": "19 words, expected 20",
     "output_type": "error",
     "traceback": [
      "\u001b[31m---------------------------------------------------------------------------\u001b[39m",
      "\u001b[31mAssertionError\u001b[39m                            Traceback (most recent call last)",
      "\u001b[36mCell\u001b[39m\u001b[36m \u001b[39m\u001b[32mIn[29]\u001b[39m\u001b[32m, line 2\u001b[39m\n\u001b[32m      1\u001b[39m all_strings = tst.all_strings()\n\u001b[32m----> \u001b[39m\u001b[32m2\u001b[39m \u001b[38;5;28;01massert\u001b[39;00m \u001b[38;5;28mlen\u001b[39m(all_strings) == \u001b[38;5;28mlen\u001b[39m(unique_words), \\\n\u001b[32m      3\u001b[39m        \u001b[33mf\u001b[39m\u001b[33m'\u001b[39m\u001b[38;5;132;01m{\u001b[39;00m\u001b[38;5;28mlen\u001b[39m(all_strings)\u001b[38;5;132;01m}\u001b[39;00m\u001b[33m words, expected \u001b[39m\u001b[38;5;132;01m{\u001b[39;00m\u001b[38;5;28mlen\u001b[39m(unique_words)\u001b[38;5;132;01m}\u001b[39;00m\u001b[33m'\u001b[39m\n\u001b[32m      4\u001b[39m \u001b[38;5;28;01massert\u001b[39;00m \u001b[38;5;28msorted\u001b[39m(all_strings) == \u001b[38;5;28msorted\u001b[39m(unique_words), \u001b[33m'\u001b[39m\u001b[33mwords do not match\u001b[39m\u001b[33m'\u001b[39m\n",
      "\u001b[31mAssertionError\u001b[39m: 19 words, expected 20"
     ]
    }
   ],
   "source": [
    "all_strings = tst.all_strings()\n",
    "assert len(all_strings) == len(unique_words), \\\n",
    "       f'{len(all_strings)} words, expected {len(unique_words)}'\n",
    "assert sorted(all_strings) == sorted(unique_words), 'words do not match'"
   ]
  },
  {
   "cell_type": "markdown",
   "id": "4243d5d6-60d5-4f1b-857b-f26a4b1216a1",
   "metadata": {},
   "source": [
    "If not output was generated, all tests have passed."
   ]
  }
 ],
 "metadata": {
  "kernelspec": {
   "display_name": "APPY2025",
   "language": "python",
   "name": "python3"
  },
  "language_info": {
   "codemirror_mode": {
    "name": "ipython",
    "version": 3
   },
   "file_extension": ".py",
   "mimetype": "text/x-python",
   "name": "python",
   "nbconvert_exporter": "python",
   "pygments_lexer": "ipython3",
   "version": "3.12.9"
  }
 },
 "nbformat": 4,
 "nbformat_minor": 5
}
