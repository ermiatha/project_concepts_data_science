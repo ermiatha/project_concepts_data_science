{
 "cells": [
  {
   "cell_type": "markdown",
   "id": "3c231cfa-6925-4269-a93f-ea6cf4b1c642",
   "metadata": {},
   "source": [
    "Ternary trees is similar to Btrees in spirit but they have a little more data in the sense that they don't store values as such but they store characters. Whereas Btrees() can store anything, a ternary trees is intended to store strings. That's its purpose, so it's a little less general purpose."
   ]
  },
  {
   "cell_type": "markdown",
   "id": "ba0f2afb-5d42-438b-86fc-03a36651e3df",
   "metadata": {},
   "source": [
    "A ternary search tree has nodes with the following attributes:\n",
    "* a character, can be `None`;\n",
    "* a Boolean flag that indicates whether the character represented\n",
    "  by this node has been the last in a string that was inserted in the\n",
    "  tree;\n",
    "* the \"less-than\" child;\n",
    "* the \"equals\" child and\n",
    "* the \"larger-than\" child.\n",
    "\n",
    "The data structure should support the following operations:\n",
    "* string insert\n",
    "* string search\n",
    "* prefix string search\n",
    "* return the number of strings stored in the data structure\n",
    "* return all strings stored in the data structure\n",
    "\n",
    "Also ensure that an instance of the data structure can be visualy represented, e.g., in aSCII format."
   ]
  },
  {
   "cell_type": "markdown",
   "id": "e24e0d90-56fa-4aed-a031-bb252cf55300",
   "metadata": {},
   "source": [
    "# Implementation"
   ]
  },
  {
   "cell_type": "markdown",
   "id": "b03b1d3b-57c9-405b-93a2-731e7d81de68",
   "metadata": {},
   "source": [
    "In this case, it is implemented in one/two python files, as a module which we need to write. We can either implement it as a module or do the implementation in the notebook"
   ]
  },
  {
   "cell_type": "code",
   "execution_count": 25,
   "id": "2e38f69e-5b57-4ae7-85ce-c1f65d6d3673",
   "metadata": {},
   "outputs": [
    {
     "name": "stdout",
     "output_type": "stream",
     "text": [
      "The autoreload extension is already loaded. To reload it, use:\n",
      "  %reload_ext autoreload\n"
     ]
    }
   ],
   "source": [
    "%load_ext autoreload\n",
    "%autoreload 2"
   ]
  },
  {
   "cell_type": "markdown",
   "id": "c4e0a12a-37c0-4ed0-8bd3-225764f59f4c",
   "metadata": {},
   "source": [
    "The data structure has been implemented as a class."
   ]
  },
  {
   "cell_type": "code",
   "execution_count": 26,
   "id": "63f8d683-29d5-4e4d-bff8-d9264f5a18aa",
   "metadata": {
    "tags": []
   },
   "outputs": [],
   "source": [
    "from ternary_search_tree import TernarySearchTree"
   ]
  },
  {
   "cell_type": "code",
   "execution_count": 1,
   "id": "0ac6827b",
   "metadata": {},
   "outputs": [],
   "source": [
    "class TtreeNode:\n",
    "    \n",
    "    def __init__(self, char):\n",
    "        self.root = None\n",
    "        self.string = None\n",
    "        #self._word = char  # to store in list of all words?\n",
    "        self._char = char[0]  # value already stored in node x, store as attribute of this node\n",
    "        self._lt, self._gt, self._eq = None, None, None\n",
    "        self.flag_wordend = False  # mark the end of a word\n",
    "\n",
    "    def _all_strings(self, pf=''):\n",
    "        #print(f'printing {self} with prefix {pf}')\n",
    "        final_wordlist = []\n",
    "        \n",
    "        word = pf + self._char\n",
    "\n",
    "        # missing: if prefix empty, add it as word\n",
    "\n",
    "        if self.flag_wordend:\n",
    "            final_wordlist.append(word)\n",
    "\n",
    "        if self._lt is not None:\n",
    "            #print(self._lt)\n",
    "            final_wordlist.extend(self._lt._all_strings(pf))\n",
    "        if self._gt is not None:\n",
    "            #print(self._gt)\n",
    "            final_wordlist.extend(self._gt._all_strings(pf))\n",
    "        if self._eq is not None:\n",
    "            #print(self._eq)\n",
    "            words = self._eq._all_strings(word)\n",
    "            final_wordlist.extend(words)\n",
    "\n",
    "        return final_wordlist\n",
    "    \n",
    "    def __len__(self):\n",
    "        # should count keys, not nodes\n",
    "        if self.flag_wordend:\n",
    "            length = 1\n",
    "        else:\n",
    "            length = 0\n",
    "        # add edge case if string is empty\n",
    "        # if self._char == \"\":\n",
    "        #     length += 1\n",
    "\n",
    "        if self._eq is not None:\n",
    "                length += len(self._eq)\n",
    "        if self._lt is not None:\n",
    "                length += len(self._lt)\n",
    "        if self._gt is not None:\n",
    "                length += len(self._gt)\n",
    "        \n",
    "        return length\n",
    "\n",
    "    def _to_string(self, indent=' '):\n",
    "        terminates = f'Terminates: {self.flag_wordend}'\n",
    "        print_info = f'char: {repr(self)}, '\n",
    "        #repr_str = indent + repr(self)\n",
    "        repr_str = indent + print_info + indent + terminates\n",
    "        if self._eq is not None:\n",
    "            repr_str += '\\n' + '_eq:' + self._eq._to_string(indent + '  ')\n",
    "        if self._lt is not None:\n",
    "            repr_str += '\\n' + '_lt:' + self._lt._to_string(indent + '  ')\n",
    "        if self._gt is not None:\n",
    "            repr_str += '\\n' + '_gt:' + self._gt._to_string(indent + '  ')\n",
    "        return repr_str\n",
    "    \n",
    "    def __repr__(self):\n",
    "        # remove star later, for now just for debugging\n",
    "        return f\"{self._char}{'*' if self.flag_wordend else ''}\"\n",
    "    \n",
    "    def _insert(self, string):\n",
    "        #print(f'inserting {string} at node {self._char}')\n",
    "        # string is the new key to insert\n",
    "        # self.string is the value already stored in this node,  holds the current key in this node\n",
    "        self.string = string  # only the first time the function is called -> add flag as function argument\n",
    "        \n",
    "        if len(string) > 0:\n",
    "            char = string[0]  # first character of new word\n",
    "            rest = string[1::]  # if rest as list: char, *rest = string\n",
    "        else:\n",
    "            char = string\n",
    "            rest = string\n",
    "\n",
    "        # if string contains more than one character\n",
    "        if len(string) > 1:\n",
    "            # character matches\n",
    "            if char == self._char:\n",
    "\n",
    "            # insert in middle child\n",
    "                if self._eq is None:\n",
    "                    self._eq = TtreeNode(rest[0])\n",
    "                self._eq._insert(rest)\n",
    "\n",
    "            # if earlier in the alphabet:\n",
    "            elif char < self._char:\n",
    "                if self._lt is None:\n",
    "                    self._lt = TtreeNode(char)\n",
    "                self._lt._insert(string)\n",
    "            # if later in the alphabet\n",
    "            elif char > self._char:\n",
    "                if self._gt is None:\n",
    "                    self._gt = TtreeNode(char)\n",
    "                self._gt._insert(string)\n",
    "        #elif string == \"\":\n",
    "        #    if self._eq is None:\n",
    "        #        self._eq = TtreeNode(string)\n",
    "        #    self._eq._insert(string)\n",
    "        else:\n",
    "            self.flag_wordend = True\n",
    "        \n",
    "        return string\n",
    "    \n",
    "    def _psearch(self, string):\n",
    "        self.string = string\n",
    "        #print(self._char)\n",
    "\n",
    "        if len(string) > 1:\n",
    "            char = string[0]  # first character of search word\n",
    "            rest = string[1::]\n",
    "        else:  # necessary?\n",
    "            char = string\n",
    "            rest = string\n",
    "        \n",
    "        print(f'searching for char {char} at node {self._char}')\n",
    "\n",
    "        # if character is found:\n",
    "        if char == self._char:\n",
    "            if len(string) == 1:\n",
    "                return self\n",
    "            elif len(string) > 1:\n",
    "                if self._eq is not None:\n",
    "                    return self._eq._psearch(rest)\n",
    "\n",
    "        elif char < self._char:\n",
    "            if self._lt is not None:\n",
    "                return self._lt._psearch(string)\n",
    "\n",
    "        elif char > self._char:\n",
    "            if self._gt is not None:\n",
    "                return self._gt._psearch(string)"
   ]
  },
  {
   "cell_type": "code",
   "execution_count": 2,
   "id": "ef37cc09",
   "metadata": {},
   "outputs": [],
   "source": [
    "class TernarySearchTree:\n",
    "    \n",
    "    def __init__(self):\n",
    "        self._root = None\n",
    "\n",
    "    def all_strings(self):\n",
    "        if self._root is None:\n",
    "            return []\n",
    "        else:\n",
    "            return self._root._all_strings()\n",
    "        \n",
    "    def __len__(self):\n",
    "        print(f'printing length of {self._root}')\n",
    "        if self._root is None:\n",
    "            return 0\n",
    "        else:\n",
    "            return len(self._root)\n",
    "    \n",
    "    def __repr__(self):\n",
    "        if self._root is None:\n",
    "            return 'empty tree'\n",
    "        else:\n",
    "            #print(\"print string here\")\n",
    "            return self._root._to_string('')\n",
    "    \n",
    "    def insert(self, string):\n",
    "        if self._root is None:\n",
    "            #print(f'inserting {string} at node {self._root}')\n",
    "            self._root = TtreeNode(string)\n",
    "        self._root._insert(string)\n",
    "\n",
    "\n",
    "    def search(self, prefix):\n",
    "        if self._root is None:\n",
    "            return False\n",
    "        node = self._root._psearch(prefix)\n",
    "        #print(node)\n",
    "        if node is None:\n",
    "            return []\n",
    "        elif node._eq:\n",
    "            # keep recursing into middle children as long as there is one\n",
    "            # return all words that contain the prefix\n",
    "            return node._eq._all_strings(prefix)\n",
    "        elif node.flag_wordend:\n",
    "            return [prefix]\n",
    "        else:\n",
    "            return node\n"
   ]
  },
  {
   "cell_type": "markdown",
   "id": "29c9a229-e99c-4db0-afff-8623495b0d0f",
   "metadata": {
    "tags": []
   },
   "source": [
    "# Example usage"
   ]
  },
  {
   "cell_type": "markdown",
   "id": "0df14272-c232-49cf-bacb-bdfe92d1801e",
   "metadata": {},
   "source": [
    "Create a new empty ternery search tree."
   ]
  },
  {
   "cell_type": "code",
   "execution_count": 3,
   "id": "1497b163-80f4-4615-9b96-de0d0d94bab4",
   "metadata": {
    "tags": []
   },
   "outputs": [],
   "source": [
    "tst = TernarySearchTree()"
   ]
  },
  {
   "cell_type": "code",
   "execution_count": 4,
   "id": "81684297",
   "metadata": {},
   "outputs": [
    {
     "name": "stdout",
     "output_type": "stream",
     "text": [
      "empty tree\n"
     ]
    }
   ],
   "source": [
    "print(tst)"
   ]
  },
  {
   "cell_type": "markdown",
   "id": "0f4fab8f-f1f8-4e90-b533-ceec45b60dcb",
   "metadata": {},
   "source": [
    "Insert the string `'abc'` into the tree."
   ]
  },
  {
   "cell_type": "code",
   "execution_count": 5,
   "id": "3b159de7-9668-4814-9d52-92ddd95736c8",
   "metadata": {
    "tags": []
   },
   "outputs": [],
   "source": [
    "tst.insert('abc')"
   ]
  },
  {
   "cell_type": "markdown",
   "id": "5f3cbbf6-256e-4e36-815f-49fa9bbba3c8",
   "metadata": {},
   "source": [
    "Display the tree."
   ]
  },
  {
   "cell_type": "code",
   "execution_count": 6,
   "id": "596f3312-7d0f-42d2-9ea2-a50d81f7d8be",
   "metadata": {
    "tags": []
   },
   "outputs": [
    {
     "name": "stdout",
     "output_type": "stream",
     "text": [
      "char: a, Terminates: False\n",
      "_eq:  char: b,   Terminates: False\n",
      "_eq:    char: c*,     Terminates: True\n"
     ]
    }
   ],
   "source": [
    "print(tst)"
   ]
  },
  {
   "cell_type": "markdown",
   "id": "e76a848b-88a8-4b2e-8ee7-e93bb64ecff0",
   "metadata": {},
   "source": [
    "Insert another string `'aqt'`."
   ]
  },
  {
   "cell_type": "code",
   "execution_count": 7,
   "id": "d59f3ef9-0523-4c20-a2fa-073165a35d5e",
   "metadata": {
    "tags": []
   },
   "outputs": [],
   "source": [
    "tst.insert('aqt')"
   ]
  },
  {
   "cell_type": "code",
   "execution_count": 8,
   "id": "a6a40c5d-e3e4-4104-ab0a-308a4ccdb5e1",
   "metadata": {
    "tags": []
   },
   "outputs": [
    {
     "name": "stdout",
     "output_type": "stream",
     "text": [
      "char: a, Terminates: False\n",
      "_eq:  char: b,   Terminates: False\n",
      "_eq:    char: c*,     Terminates: True\n",
      "_gt:    char: q,     Terminates: False\n",
      "_eq:      char: t*,       Terminates: True\n"
     ]
    }
   ],
   "source": [
    "print(tst)"
   ]
  },
  {
   "cell_type": "markdown",
   "id": "d3b133d1-b878-4e57-a2c9-17c44ba186cb",
   "metadata": {},
   "source": [
    "The tree should now contain two strings."
   ]
  },
  {
   "cell_type": "code",
   "execution_count": 9,
   "id": "45c03393-62ad-43e1-8667-5847d338d740",
   "metadata": {
    "tags": []
   },
   "outputs": [
    {
     "name": "stdout",
     "output_type": "stream",
     "text": [
      "printing length of a\n"
     ]
    },
    {
     "data": {
      "text/plain": [
       "2"
      ]
     },
     "execution_count": 9,
     "metadata": {},
     "output_type": "execute_result"
    }
   ],
   "source": [
    "len(tst)"
   ]
  },
  {
   "cell_type": "code",
   "execution_count": 10,
   "id": "1713d80e-e2e1-42b7-b1e0-cdc70aec6ceb",
   "metadata": {},
   "outputs": [
    {
     "data": {
      "text/plain": [
       "['aqt', 'abc']"
      ]
     },
     "execution_count": 10,
     "metadata": {},
     "output_type": "execute_result"
    }
   ],
   "source": [
    "tst.all_strings()"
   ]
  },
  {
   "cell_type": "markdown",
   "id": "7350133c-1484-485f-a8dc-1cac2c462ec7",
   "metadata": {},
   "source": [
    "Search for the string `'ab'`, it should be found since it is a prefix of `'abc'`."
   ]
  },
  {
   "cell_type": "code",
   "execution_count": 11,
   "id": "ddd71cf3-f887-4939-bae7-4a1c0a85a9e2",
   "metadata": {
    "tags": []
   },
   "outputs": [
    {
     "name": "stdout",
     "output_type": "stream",
     "text": [
      "searching for char a at node a\n",
      "searching for char b at node b\n"
     ]
    },
    {
     "data": {
      "text/plain": [
       "['abc']"
      ]
     },
     "execution_count": 11,
     "metadata": {},
     "output_type": "execute_result"
    }
   ],
   "source": [
    "tst.search('ab')"
   ]
  },
  {
   "cell_type": "markdown",
   "id": "45443693-ae5a-4584-bab2-7c20e8331dcc",
   "metadata": {},
   "source": [
    "The string `'ac'` should not be found."
   ]
  },
  {
   "cell_type": "code",
   "execution_count": 12,
   "id": "3756d5c9-0286-463a-8962-a0878ec067e2",
   "metadata": {
    "tags": []
   },
   "outputs": [
    {
     "name": "stdout",
     "output_type": "stream",
     "text": [
      "searching for char a at node a\n",
      "searching for char c at node b\n",
      "searching for char c at node q\n"
     ]
    },
    {
     "data": {
      "text/plain": [
       "[]"
      ]
     },
     "execution_count": 12,
     "metadata": {},
     "output_type": "execute_result"
    }
   ],
   "source": [
    "tst.search('ac')"
   ]
  },
  {
   "cell_type": "markdown",
   "id": "c244f370-77fa-4291-bc8d-b8a4e4c3a680",
   "metadata": {},
   "source": [
    "The tree can also contain the empty string."
   ]
  },
  {
   "cell_type": "code",
   "execution_count": 17,
   "id": "66a3fdd6-bb30-42ec-9f2e-73c880b40209",
   "metadata": {
    "tags": []
   },
   "outputs": [],
   "source": [
    "tst.insert('')"
   ]
  },
  {
   "cell_type": "code",
   "execution_count": 18,
   "id": "b94f344b-2c62-4b75-95e0-d79f609072fd",
   "metadata": {
    "tags": []
   },
   "outputs": [
    {
     "name": "stdout",
     "output_type": "stream",
     "text": [
      "printing length of a*\n"
     ]
    },
    {
     "data": {
      "text/plain": [
       "3"
      ]
     },
     "execution_count": 18,
     "metadata": {},
     "output_type": "execute_result"
    }
   ],
   "source": [
    "len(tst)"
   ]
  },
  {
   "cell_type": "code",
   "execution_count": 19,
   "id": "be2221c7-57af-449c-b235-4b9257b98229",
   "metadata": {
    "tags": []
   },
   "outputs": [
    {
     "name": "stdout",
     "output_type": "stream",
     "text": [
      "char: a*, Terminates: True\n",
      "_eq:  char: b,   Terminates: False\n",
      "_eq:    char: c*,     Terminates: True\n",
      "_gt:    char: q,     Terminates: False\n",
      "_eq:      char: t*,       Terminates: True\n"
     ]
    }
   ],
   "source": [
    "print(tst)"
   ]
  },
  {
   "cell_type": "code",
   "execution_count": 20,
   "id": "024e8ed2-b336-4234-8131-cd695864cf9f",
   "metadata": {},
   "outputs": [
    {
     "data": {
      "text/plain": [
       "['a', 'aqt', 'abc']"
      ]
     },
     "execution_count": 20,
     "metadata": {},
     "output_type": "execute_result"
    }
   ],
   "source": [
    "tst.all_strings()"
   ]
  },
  {
   "cell_type": "markdown",
   "id": "1fee5f92-87e7-4ddb-b6e0-9001d4084faf",
   "metadata": {},
   "source": [
    "# Testing"
   ]
  },
  {
   "cell_type": "markdown",
   "id": "eb3e5956-80f2-42af-a386-56b8ac09ffb9",
   "metadata": {},
   "source": [
    "The worst case for the quicksort algorithm is the sorted list. Maybe that's something we should remember if we look at this dataset (a hint from GJB)."
   ]
  },
  {
   "cell_type": "markdown",
   "id": "a2fa4596-a33c-4fa0-aaeb-b2d179f4bf70",
   "metadata": {},
   "source": [
    "In this project we are supposed to implement similarly to the Btree. Also, do proper testing that your algorithm actually works as expected. Also, pay attention to Corner cases: what happens if I have an empty ternary tree, does the right thing happen (i.e. do I get correct values for the length, do I get correct values for the strings that are sorted in there, etc...). Make sure to have tests in place to test for these cases. The third thing is the performance test: how does it scale with increasing number of words stored in it, how long does it take to build the ternary search tree, also how long does it take to find stuff (in worst case too). Basically, similar tests as we did for the binary tree or the sorting algorithm."
   ]
  },
  {
   "cell_type": "markdown",
   "id": "4f2bf46d-2b5c-46b7-8bee-cb0222473be1",
   "metadata": {},
   "source": [
    "The whole thing is supposed to be implemented using version control. Hence, everything lives in a Github repository. Also there should be documentation in your implementation, just as the documentation seen in the sorting thing.   "
   ]
  },
  {
   "cell_type": "markdown",
   "id": "c494a22d-2eb7-4e28-8591-8f01a0cf5bc5",
   "metadata": {},
   "source": [
    "Discussion should also be there, i.e., you see something -> comment on what you see. Try to explain what you see, whether you expect it. "
   ]
  },
  {
   "cell_type": "markdown",
   "id": "0f641fa7-aaf7-406e-813b-4a84645ca2fb",
   "metadata": {},
   "source": [
    "The file `data/search_trees/insert_words.txt` contains words that we can insert into a tree."
   ]
  },
  {
   "cell_type": "code",
   "execution_count": 21,
   "id": "19431f68-eafd-4e62-a410-06a7c7ec4168",
   "metadata": {
    "tags": []
   },
   "outputs": [],
   "source": [
    "tst = TernarySearchTree()\n",
    "with open('data/search_trees/insert_words.txt') as file:\n",
    "    words = [\n",
    "        line.strip() for line in file\n",
    "    ]\n",
    "for word in words:\n",
    "    tst.insert(word)\n",
    "unique_words = set(words)"
   ]
  },
  {
   "cell_type": "markdown",
   "id": "09ff039a-3780-4ef8-bed7-e6da0715800a",
   "metadata": {},
   "source": [
    "Verify the length of the data stucture."
   ]
  },
  {
   "cell_type": "code",
   "execution_count": 22,
   "id": "18090742-7a3a-400a-a077-e2904901a123",
   "metadata": {
    "tags": []
   },
   "outputs": [
    {
     "name": "stdout",
     "output_type": "stream",
     "text": [
      "printing length of c*\n",
      "printing length of c*\n"
     ]
    },
    {
     "ename": "AssertionError",
     "evalue": "19 in tree, expected 20",
     "output_type": "error",
     "traceback": [
      "\u001b[1;31m---------------------------------------------------------------------------\u001b[0m",
      "\u001b[1;31mAssertionError\u001b[0m                            Traceback (most recent call last)",
      "Cell \u001b[1;32mIn[22], line 1\u001b[0m\n\u001b[1;32m----> 1\u001b[0m \u001b[38;5;28;01massert\u001b[39;00m \u001b[38;5;28mlen\u001b[39m(tst) \u001b[38;5;241m==\u001b[39m \u001b[38;5;28mlen\u001b[39m(unique_words), \\\n\u001b[0;32m      2\u001b[0m        \u001b[38;5;124mf\u001b[39m\u001b[38;5;124m'\u001b[39m\u001b[38;5;132;01m{\u001b[39;00m\u001b[38;5;28mlen\u001b[39m(tst)\u001b[38;5;132;01m}\u001b[39;00m\u001b[38;5;124m in tree, expected \u001b[39m\u001b[38;5;132;01m{\u001b[39;00m\u001b[38;5;28mlen\u001b[39m(unique_words)\u001b[38;5;132;01m}\u001b[39;00m\u001b[38;5;124m'\u001b[39m\n",
      "\u001b[1;31mAssertionError\u001b[0m: 19 in tree, expected 20"
     ]
    }
   ],
   "source": [
    "assert len(tst) == len(unique_words), \\\n",
    "       f'{len(tst)} in tree, expected {len(unique_words)}'"
   ]
  },
  {
   "cell_type": "markdown",
   "id": "3715acd0-09b0-4d1d-9b1b-c33c7cca6ec9",
   "metadata": {},
   "source": [
    "Verify that all words that were inserted can be found."
   ]
  },
  {
   "cell_type": "code",
   "execution_count": 23,
   "id": "83fd3f2d-13ef-4cf9-9631-2f7550939efb",
   "metadata": {
    "tags": []
   },
   "outputs": [
    {
     "name": "stdout",
     "output_type": "stream",
     "text": [
      "searching for char f at node c\n",
      "searching for char f at node d\n",
      "searching for char f at node f\n",
      "searching for char a at node u\n",
      "searching for char a at node o\n",
      "searching for char a at node a\n",
      "searching for char r at node r\n",
      "searching for char a at node c\n",
      "searching for char a at node b\n"
     ]
    },
    {
     "ename": "AssertionError",
     "evalue": "a not found",
     "output_type": "error",
     "traceback": [
      "\u001b[1;31m---------------------------------------------------------------------------\u001b[0m",
      "\u001b[1;31mAssertionError\u001b[0m                            Traceback (most recent call last)",
      "Cell \u001b[1;32mIn[23], line 2\u001b[0m\n\u001b[0;32m      1\u001b[0m \u001b[38;5;28;01mfor\u001b[39;00m word \u001b[38;5;129;01min\u001b[39;00m unique_words:\n\u001b[1;32m----> 2\u001b[0m     \u001b[38;5;28;01massert\u001b[39;00m tst\u001b[38;5;241m.\u001b[39msearch(word), \u001b[38;5;124mf\u001b[39m\u001b[38;5;124m'\u001b[39m\u001b[38;5;132;01m{\u001b[39;00mword\u001b[38;5;132;01m}\u001b[39;00m\u001b[38;5;124m not found\u001b[39m\u001b[38;5;124m'\u001b[39m\n",
      "\u001b[1;31mAssertionError\u001b[0m: a not found"
     ]
    }
   ],
   "source": [
    "for word in unique_words:\n",
    "    assert tst.search(word), f'{word} not found'"
   ]
  },
  {
   "cell_type": "markdown",
   "id": "914240b6-1980-4436-9596-991258aac0d1",
   "metadata": {},
   "source": [
    "Verify that all prefixes can be found."
   ]
  },
  {
   "cell_type": "code",
   "execution_count": 24,
   "id": "7b320bc5-d544-4aa2-82f7-549eef526757",
   "metadata": {
    "tags": []
   },
   "outputs": [
    {
     "name": "stdout",
     "output_type": "stream",
     "text": [
      "searching for char f at node c\n",
      "searching for char f at node d\n",
      "searching for char f at node f\n",
      "searching for char a at node u\n",
      "searching for char a at node o\n",
      "searching for char a at node a\n",
      "searching for char f at node c\n",
      "searching for char f at node d\n",
      "searching for char f at node f\n",
      "searching for char c at node c\n",
      "searching for char o at node o\n",
      "searching for char m at node m\n",
      "searching for char b at node b\n",
      "searching for char i at node i\n",
      "searching for char n at node n\n",
      "searching for char a at node e\n",
      "searching for char a at node a\n",
      "searching for char t at node t\n",
      "searching for char i at node i\n",
      "searching for char o at node o\n",
      "searching for char c at node c\n",
      "searching for char o at node o\n",
      "searching for char m at node m\n",
      "searching for char b at node b\n",
      "searching for char i at node i\n",
      "searching for char n at node n\n",
      "searching for char a at node e\n",
      "searching for char a at node a\n",
      "searching for char t at node t\n",
      "searching for char i at node i\n",
      "searching for char c at node c\n",
      "searching for char o at node o\n",
      "searching for char m at node m\n",
      "searching for char b at node b\n",
      "searching for char i at node i\n",
      "searching for char n at node n\n",
      "searching for char a at node e\n",
      "searching for char a at node a\n",
      "searching for char t at node t\n",
      "searching for char c at node c\n",
      "searching for char o at node o\n",
      "searching for char m at node m\n",
      "searching for char b at node b\n",
      "searching for char i at node i\n",
      "searching for char n at node n\n",
      "searching for char a at node e\n",
      "searching for char a at node a\n",
      "searching for char c at node c\n",
      "searching for char o at node o\n",
      "searching for char m at node m\n",
      "searching for char b at node b\n",
      "searching for char i at node i\n",
      "searching for char n at node n\n",
      "searching for char c at node c\n",
      "searching for char o at node o\n",
      "searching for char m at node m\n",
      "searching for char b at node b\n",
      "searching for char i at node i\n",
      "searching for char c at node c\n",
      "searching for char o at node o\n",
      "searching for char m at node m\n",
      "searching for char b at node b\n",
      "searching for char c at node c\n",
      "searching for char o at node o\n",
      "searching for char m at node m\n",
      "searching for char c at node c\n",
      "searching for char o at node o\n",
      "searching for char c at node c\n",
      "searching for char f at node c\n",
      "searching for char f at node d\n",
      "searching for char f at node f\n",
      "searching for char u at node u\n",
      "searching for char t at node t\n",
      "searching for char i at node i\n",
      "searching for char l at node l\n",
      "searching for char i at node e\n",
      "searching for char i at node i\n",
      "searching for char t at node t\n",
      "searching for char f at node c\n",
      "searching for char f at node d\n",
      "searching for char f at node f\n",
      "searching for char u at node u\n",
      "searching for char t at node t\n",
      "searching for char i at node i\n",
      "searching for char l at node l\n",
      "searching for char i at node e\n",
      "searching for char i at node i\n",
      "searching for char f at node c\n",
      "searching for char f at node d\n",
      "searching for char f at node f\n",
      "searching for char u at node u\n",
      "searching for char t at node t\n",
      "searching for char i at node i\n",
      "searching for char l at node l\n",
      "searching for char f at node c\n",
      "searching for char f at node d\n",
      "searching for char f at node f\n",
      "searching for char u at node u\n",
      "searching for char t at node t\n",
      "searching for char i at node i\n",
      "searching for char f at node c\n",
      "searching for char f at node d\n",
      "searching for char f at node f\n",
      "searching for char u at node u\n",
      "searching for char t at node t\n",
      "searching for char f at node c\n",
      "searching for char f at node d\n",
      "searching for char f at node f\n",
      "searching for char u at node u\n",
      "searching for char f at node c\n",
      "searching for char f at node d\n",
      "searching for char f at node f\n",
      "searching for char f at node c\n",
      "searching for char f at node d\n",
      "searching for char f at node f\n",
      "searching for char o at node u\n",
      "searching for char o at node o\n",
      "searching for char n at node n\n",
      "searching for char f at node c\n",
      "searching for char f at node d\n",
      "searching for char f at node f\n",
      "searching for char o at node u\n",
      "searching for char o at node o\n",
      "searching for char f at node c\n",
      "searching for char f at node d\n",
      "searching for char f at node f\n",
      "searching for char f at node c\n",
      "searching for char f at node d\n",
      "searching for char f at node f\n",
      "searching for char o at node u\n",
      "searching for char o at node o\n",
      "searching for char n at node n\n",
      "searching for char t at node t\n",
      "searching for char a at node a\n",
      "searching for char i at node i\n",
      "searching for char f at node c\n",
      "searching for char f at node d\n",
      "searching for char f at node f\n",
      "searching for char o at node u\n",
      "searching for char o at node o\n",
      "searching for char n at node n\n",
      "searching for char t at node t\n",
      "searching for char a at node a\n",
      "searching for char f at node c\n",
      "searching for char f at node d\n",
      "searching for char f at node f\n",
      "searching for char o at node u\n",
      "searching for char o at node o\n",
      "searching for char n at node n\n",
      "searching for char t at node t\n",
      "searching for char f at node c\n",
      "searching for char f at node d\n",
      "searching for char f at node f\n",
      "searching for char o at node u\n",
      "searching for char o at node o\n",
      "searching for char n at node n\n",
      "searching for char f at node c\n",
      "searching for char f at node d\n",
      "searching for char f at node f\n",
      "searching for char o at node u\n",
      "searching for char o at node o\n",
      "searching for char f at node c\n",
      "searching for char f at node d\n",
      "searching for char f at node f\n",
      "searching for char c at node c\n",
      "searching for char o at node o\n",
      "searching for char m at node m\n",
      "searching for char b at node b\n",
      "searching for char i at node i\n",
      "searching for char n at node n\n",
      "searching for char c at node c\n",
      "searching for char o at node o\n",
      "searching for char m at node m\n",
      "searching for char b at node b\n",
      "searching for char i at node i\n",
      "searching for char c at node c\n",
      "searching for char o at node o\n",
      "searching for char m at node m\n",
      "searching for char b at node b\n",
      "searching for char c at node c\n",
      "searching for char o at node o\n",
      "searching for char m at node m\n",
      "searching for char c at node c\n",
      "searching for char o at node o\n",
      "searching for char c at node c\n",
      "searching for char t at node c\n",
      "searching for char t at node d\n",
      "searching for char t at node f\n",
      "searching for char t at node t\n",
      "searching for char h at node h\n",
      "searching for char t at node c\n",
      "searching for char t at node d\n",
      "searching for char t at node f\n",
      "searching for char t at node t\n",
      "searching for char t at node c\n",
      "searching for char t at node d\n",
      "searching for char t at node f\n",
      "searching for char t at node t\n",
      "searching for char h at node h\n",
      "searching for char e at node e\n",
      "searching for char r at node i\n",
      "searching for char r at node r\n",
      "searching for char e at node e\n",
      "searching for char f at node f\n",
      "searching for char o at node o\n",
      "searching for char t at node c\n",
      "searching for char t at node d\n",
      "searching for char t at node f\n",
      "searching for char t at node t\n",
      "searching for char h at node h\n",
      "searching for char e at node e\n",
      "searching for char r at node i\n",
      "searching for char r at node r\n",
      "searching for char e at node e\n",
      "searching for char f at node f\n",
      "searching for char t at node c\n",
      "searching for char t at node d\n",
      "searching for char t at node f\n",
      "searching for char t at node t\n",
      "searching for char h at node h\n",
      "searching for char e at node e\n",
      "searching for char r at node i\n",
      "searching for char r at node r\n",
      "searching for char e at node e\n",
      "searching for char t at node c\n",
      "searching for char t at node d\n",
      "searching for char t at node f\n",
      "searching for char t at node t\n",
      "searching for char h at node h\n",
      "searching for char e at node e\n",
      "searching for char r at node i\n",
      "searching for char r at node r\n",
      "searching for char t at node c\n",
      "searching for char t at node d\n",
      "searching for char t at node f\n",
      "searching for char t at node t\n",
      "searching for char h at node h\n",
      "searching for char e at node e\n",
      "searching for char t at node c\n",
      "searching for char t at node d\n",
      "searching for char t at node f\n",
      "searching for char t at node t\n",
      "searching for char h at node h\n",
      "searching for char t at node c\n",
      "searching for char t at node d\n",
      "searching for char t at node f\n",
      "searching for char t at node t\n",
      "searching for char d at node c\n",
      "searching for char d at node d\n",
      "searching for char u at node u\n",
      "searching for char c at node c\n",
      "searching for char k at node k\n",
      "searching for char d at node c\n",
      "searching for char d at node d\n",
      "searching for char u at node u\n",
      "searching for char c at node c\n",
      "searching for char d at node c\n",
      "searching for char d at node d\n",
      "searching for char u at node u\n",
      "searching for char d at node c\n",
      "searching for char d at node d\n",
      "searching for char t at node c\n",
      "searching for char t at node d\n",
      "searching for char t at node f\n",
      "searching for char t at node t\n",
      "searching for char h at node h\n",
      "searching for char e at node e\n",
      "searching for char i at node i\n",
      "searching for char t at node c\n",
      "searching for char t at node d\n",
      "searching for char t at node f\n",
      "searching for char t at node t\n",
      "searching for char h at node h\n",
      "searching for char e at node e\n",
      "searching for char t at node c\n",
      "searching for char t at node d\n",
      "searching for char t at node f\n",
      "searching for char t at node t\n",
      "searching for char h at node h\n",
      "searching for char t at node c\n",
      "searching for char t at node d\n",
      "searching for char t at node f\n",
      "searching for char t at node t\n",
      "searching for char c at node c\n",
      "searching for char o at node o\n",
      "searching for char m at node m\n",
      "searching for char b at node b\n",
      "searching for char i at node i\n",
      "searching for char n at node n\n",
      "searching for char e at node e\n",
      "searching for char c at node c\n",
      "searching for char o at node o\n",
      "searching for char m at node m\n",
      "searching for char b at node b\n",
      "searching for char i at node i\n",
      "searching for char n at node n\n",
      "searching for char c at node c\n",
      "searching for char o at node o\n",
      "searching for char m at node m\n",
      "searching for char b at node b\n",
      "searching for char i at node i\n",
      "searching for char c at node c\n",
      "searching for char o at node o\n",
      "searching for char m at node m\n",
      "searching for char b at node b\n",
      "searching for char c at node c\n",
      "searching for char o at node o\n",
      "searching for char m at node m\n",
      "searching for char c at node c\n",
      "searching for char o at node o\n",
      "searching for char c at node c\n",
      "searching for char f at node c\n",
      "searching for char f at node d\n",
      "searching for char f at node f\n",
      "searching for char u at node u\n",
      "searching for char t at node t\n",
      "searching for char u at node i\n",
      "searching for char u at node u\n",
      "searching for char r at node r\n",
      "searching for char f at node c\n",
      "searching for char f at node d\n",
      "searching for char f at node f\n",
      "searching for char u at node u\n",
      "searching for char t at node t\n",
      "searching for char u at node i\n",
      "searching for char u at node u\n",
      "searching for char f at node c\n",
      "searching for char f at node d\n",
      "searching for char f at node f\n",
      "searching for char u at node u\n",
      "searching for char t at node t\n",
      "searching for char f at node c\n",
      "searching for char f at node d\n",
      "searching for char f at node f\n",
      "searching for char u at node u\n",
      "searching for char f at node c\n",
      "searching for char f at node d\n",
      "searching for char f at node f\n",
      "searching for char b at node c\n",
      "searching for char b at node b\n",
      "searching for char o at node o\n",
      "searching for char m at node m\n",
      "searching for char b at node c\n",
      "searching for char b at node b\n",
      "searching for char o at node o\n",
      "searching for char b at node c\n",
      "searching for char b at node b\n",
      "searching for char d at node c\n",
      "searching for char d at node d\n",
      "searching for char u at node u\n",
      "searching for char c at node c\n",
      "searching for char k at node k\n",
      "searching for char e at node s\n",
      "searching for char e at node e\n",
      "searching for char d at node c\n",
      "searching for char d at node d\n",
      "searching for char u at node u\n",
      "searching for char c at node c\n",
      "searching for char k at node k\n",
      "searching for char d at node c\n",
      "searching for char d at node d\n",
      "searching for char u at node u\n",
      "searching for char c at node c\n",
      "searching for char d at node c\n",
      "searching for char d at node d\n",
      "searching for char u at node u\n",
      "searching for char d at node c\n",
      "searching for char d at node d\n",
      "searching for char c at node c\n",
      "searching for char o at node o\n",
      "searching for char m at node m\n",
      "searching for char b at node b\n",
      "searching for char i at node i\n",
      "searching for char n at node n\n",
      "searching for char a at node e\n",
      "searching for char a at node a\n",
      "searching for char t at node t\n",
      "searching for char i at node i\n",
      "searching for char o at node o\n",
      "searching for char n at node n\n",
      "searching for char c at node c\n",
      "searching for char o at node o\n",
      "searching for char m at node m\n",
      "searching for char b at node b\n",
      "searching for char i at node i\n",
      "searching for char n at node n\n",
      "searching for char a at node e\n",
      "searching for char a at node a\n",
      "searching for char t at node t\n",
      "searching for char i at node i\n",
      "searching for char o at node o\n",
      "searching for char c at node c\n",
      "searching for char o at node o\n",
      "searching for char m at node m\n",
      "searching for char b at node b\n",
      "searching for char i at node i\n",
      "searching for char n at node n\n",
      "searching for char a at node e\n",
      "searching for char a at node a\n",
      "searching for char t at node t\n",
      "searching for char i at node i\n",
      "searching for char c at node c\n",
      "searching for char o at node o\n",
      "searching for char m at node m\n",
      "searching for char b at node b\n",
      "searching for char i at node i\n",
      "searching for char n at node n\n",
      "searching for char a at node e\n",
      "searching for char a at node a\n",
      "searching for char t at node t\n",
      "searching for char c at node c\n",
      "searching for char o at node o\n",
      "searching for char m at node m\n",
      "searching for char b at node b\n",
      "searching for char i at node i\n",
      "searching for char n at node n\n",
      "searching for char a at node e\n",
      "searching for char a at node a\n",
      "searching for char c at node c\n",
      "searching for char o at node o\n",
      "searching for char m at node m\n",
      "searching for char b at node b\n",
      "searching for char i at node i\n",
      "searching for char n at node n\n",
      "searching for char c at node c\n",
      "searching for char o at node o\n",
      "searching for char m at node m\n",
      "searching for char b at node b\n",
      "searching for char i at node i\n",
      "searching for char c at node c\n",
      "searching for char o at node o\n",
      "searching for char m at node m\n",
      "searching for char b at node b\n",
      "searching for char c at node c\n",
      "searching for char o at node o\n",
      "searching for char m at node m\n",
      "searching for char c at node c\n",
      "searching for char o at node o\n",
      "searching for char c at node c\n",
      "searching for char d at node c\n",
      "searching for char d at node d\n",
      "searching for char u at node u\n",
      "searching for char c at node c\n",
      "searching for char d at node c\n",
      "searching for char d at node d\n",
      "searching for char u at node u\n",
      "searching for char d at node c\n",
      "searching for char d at node d\n",
      "searching for char c at node c\n",
      "searching for char o at node o\n",
      "searching for char m at node m\n",
      "searching for char b at node b\n",
      "searching for char i at node i\n",
      "searching for char n at node n\n",
      "searching for char e at node e\n",
      "searching for char c at node c\n",
      "searching for char o at node o\n",
      "searching for char m at node m\n",
      "searching for char b at node b\n",
      "searching for char i at node i\n",
      "searching for char n at node n\n",
      "searching for char c at node c\n",
      "searching for char o at node o\n",
      "searching for char m at node m\n",
      "searching for char b at node b\n",
      "searching for char i at node i\n",
      "searching for char c at node c\n",
      "searching for char o at node o\n",
      "searching for char m at node m\n",
      "searching for char b at node b\n",
      "searching for char c at node c\n",
      "searching for char o at node o\n",
      "searching for char m at node m\n",
      "searching for char c at node c\n",
      "searching for char o at node o\n",
      "searching for char c at node c\n",
      "searching for char t at node c\n",
      "searching for char t at node d\n",
      "searching for char t at node f\n",
      "searching for char t at node t\n",
      "searching for char h at node h\n",
      "searching for char e at node e\n",
      "searching for char r at node i\n",
      "searching for char r at node r\n",
      "searching for char t at node c\n",
      "searching for char t at node d\n",
      "searching for char t at node f\n",
      "searching for char t at node t\n",
      "searching for char h at node h\n",
      "searching for char e at node e\n",
      "searching for char t at node c\n",
      "searching for char t at node d\n",
      "searching for char t at node f\n",
      "searching for char t at node t\n",
      "searching for char h at node h\n",
      "searching for char t at node c\n",
      "searching for char t at node d\n",
      "searching for char t at node f\n",
      "searching for char t at node t\n",
      "searching for char f at node c\n",
      "searching for char f at node d\n",
      "searching for char f at node f\n",
      "searching for char u at node u\n",
      "searching for char t at node t\n",
      "searching for char i at node i\n",
      "searching for char l at node l\n",
      "searching for char f at node c\n",
      "searching for char f at node d\n",
      "searching for char f at node f\n",
      "searching for char u at node u\n",
      "searching for char t at node t\n",
      "searching for char i at node i\n",
      "searching for char f at node c\n",
      "searching for char f at node d\n",
      "searching for char f at node f\n",
      "searching for char u at node u\n",
      "searching for char t at node t\n",
      "searching for char f at node c\n",
      "searching for char f at node d\n",
      "searching for char f at node f\n",
      "searching for char u at node u\n",
      "searching for char f at node c\n",
      "searching for char f at node d\n",
      "searching for char f at node f\n"
     ]
    }
   ],
   "source": [
    "for word in unique_words:\n",
    "    for i in range(len(word) - 1, 0, -1):\n",
    "        prefix = word[:i]\n",
    "        assert tst.search(prefix), f'{prefix} not found'"
   ]
  },
  {
   "cell_type": "markdown",
   "id": "5e67261a-0260-451c-b975-5406458b7fc9",
   "metadata": {},
   "source": [
    "Check that when searching for a exact match, only the inserted words are found, and no prefixes."
   ]
  },
  {
   "cell_type": "code",
   "execution_count": 44,
   "id": "c15f2bf1-e026-468d-86f1-b7bf7d4857a0",
   "metadata": {
    "tags": []
   },
   "outputs": [],
   "source": [
    "for word in unique_words:\n",
    "    for i in range(len(word), 0, -1):\n",
    "        prefix = word[:i]\n",
    "        if prefix not in unique_words:\n",
    "            assert not tst.search(prefix, exact=True), \\\n",
    "                   f'{prefix} found'"
   ]
  },
  {
   "cell_type": "markdown",
   "id": "63ce21af-9e38-473e-9bfa-572fc00beb7d",
   "metadata": {},
   "source": [
    "Check that the empty string is in the tree (since it is a prefix of any string)."
   ]
  },
  {
   "cell_type": "code",
   "execution_count": 45,
   "id": "02796895-029a-4f1f-aebe-19315b5a7964",
   "metadata": {
    "tags": []
   },
   "outputs": [],
   "source": [
    "assert tst.search(''), 'empty string not found'"
   ]
  },
  {
   "cell_type": "markdown",
   "id": "21485551-72ef-448f-a473-8fd94063a98a",
   "metadata": {},
   "source": [
    "Check that the empty string is not in the tree for an exact search."
   ]
  },
  {
   "cell_type": "code",
   "execution_count": 46,
   "id": "b3f7943c-ccc0-414a-a4bd-90398a09a829",
   "metadata": {
    "tags": []
   },
   "outputs": [],
   "source": [
    "assert not tst.search('', exact=True), 'empty string found'"
   ]
  },
  {
   "cell_type": "markdown",
   "id": "122ef82d-a23d-4245-899f-b070e0b13b0a",
   "metadata": {},
   "source": [
    "Check that words in the file `data/search_trees/not_insert_words.txt` can not be found in the tree."
   ]
  },
  {
   "cell_type": "code",
   "execution_count": 47,
   "id": "90ea39d5-5c96-4e79-8dc8-80c55de1cea2",
   "metadata": {
    "tags": []
   },
   "outputs": [],
   "source": [
    "with open('data/search_trees/not_insert_words.txt') as file:\n",
    "    for line in file:\n",
    "        word = line.strip()\n",
    "        assert not tst.search(word), f'{word} should not be found'"
   ]
  },
  {
   "cell_type": "markdown",
   "id": "bc93c3f1-a829-484c-a11d-d598914c3b8f",
   "metadata": {},
   "source": [
    "Check that all strings are returned."
   ]
  },
  {
   "cell_type": "code",
   "execution_count": 48,
   "id": "c09d0cab-02db-452e-8ac1-837e108ab63d",
   "metadata": {},
   "outputs": [],
   "source": [
    "all_strings = tst.all_strings()\n",
    "assert len(all_strings) == len(unique_words), \\\n",
    "       f'{len(all_strings)} words, expected {len(unique_words)}'\n",
    "assert sorted(all_strings) == sorted(unique_words), 'words do not match'"
   ]
  },
  {
   "cell_type": "markdown",
   "id": "4243d5d6-60d5-4f1b-857b-f26a4b1216a1",
   "metadata": {},
   "source": [
    "If not output was generated, all tests have passed."
   ]
  }
 ],
 "metadata": {
  "kernelspec": {
   "display_name": "base",
   "language": "python",
   "name": "python3"
  },
  "language_info": {
   "codemirror_mode": {
    "name": "ipython",
    "version": 3
   },
   "file_extension": ".py",
   "mimetype": "text/x-python",
   "name": "python",
   "nbconvert_exporter": "python",
   "pygments_lexer": "ipython3",
   "version": "3.11.5"
  }
 },
 "nbformat": 4,
 "nbformat_minor": 5
}
