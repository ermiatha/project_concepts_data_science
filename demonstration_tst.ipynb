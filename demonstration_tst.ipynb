{
 "cells": [
  {
   "cell_type": "markdown",
   "id": "62d5d7a7",
   "metadata": {},
   "source": [
    "# Performance Demonstration of Ternary Search Trees (TST)\n",
    "\n",
    "This notebook evaluates the performance of Ternary Search Trees across key operations on datasets of varying sizes. Each section contains:"
   ]
  },
  {
   "cell_type": "code",
   "execution_count": 3,
   "id": "b25d9385",
   "metadata": {},
   "outputs": [],
   "source": [
    "import random\n",
    "import time\n",
    "import matplotlib.pyplot as plt\n",
    "from ternary_search_tree import TernarySearchTree\n"
   ]
  },
  {
   "cell_type": "code",
   "execution_count": 2,
   "id": "baffd97a",
   "metadata": {},
   "outputs": [],
   "source": [
    "# Load English words from file and strip whitespace\n",
    "with open('data/search_trees/corncob_lowercase.txt') as file:\n",
    "    words = [line.strip() for line in file]"
   ]
  },
  {
   "cell_type": "markdown",
   "id": "7d28145e",
   "metadata": {},
   "source": [
    "## Small-Sized TST\n",
    "### Insertion Performance\n",
    "Let's start inserting a small dataset into our TST (up to 5000 words)"
   ]
  },
  {
   "cell_type": "code",
   "execution_count": 78,
   "id": "4d947c9b",
   "metadata": {},
   "outputs": [],
   "source": [
    "sizes = [100, 200, 300, 400, 500, 600, 700, 800, 900, 1000, 2000, 3000, 4000, 5000]  # Sizes of trees to build\n",
    "nr_runs = 10  # Number of benchmark runs to average timing results\n",
    "\n",
    "# create a list of random samples for each size\n",
    "samples = [\n",
    "    random.sample(words, k=size) for size in sizes\n",
    "]"
   ]
  },
  {
   "cell_type": "markdown",
   "id": "bd9b31ca",
   "metadata": {},
   "source": [
    "Let's now build trees with the prespecified sizes:"
   ]
  },
  {
   "cell_type": "code",
   "execution_count": 73,
   "id": "b9700da2",
   "metadata": {},
   "outputs": [
    {
     "name": "stdout",
     "output_type": "stream",
     "text": [
      "['patrician', 'fishery', 'exultingly', 'exploded', 'unknown', 'dragons', 'insurmountable', 'prominence', 'pressurising', 'repentance', 'redial', 'coward', 'glottal', 'baits', 'sisters', 'unsatisfied', 'leaven', 'scoff', 'defectors', 'swells']\n"
     ]
    },
    {
     "data": {
      "text/plain": [
       "{100: [1085600, 0, 0, 0, 0, 0, 0, 0, 3000900, 0],\n",
       " 200: [0, 1473600, 0, 0, 0, 0, 0, 0, 0, 0],\n",
       " 300: [0, 0, 0, 0, 1127300, 0, 0, 0, 0, 0],\n",
       " 400: [1002600, 0, 1219800, 0, 0, 0, 0, 0, 0, 0],\n",
       " 500: [0, 0, 0, 0, 0, 0, 0, 0, 0, 672200],\n",
       " 600: [0, 0, 0, 0, 0, 0, 0, 0, 0, 0],\n",
       " 700: [1601600, 0, 0, 0, 0, 1740700, 1328500, 0, 0, 1416000],\n",
       " 800: [1006000, 0, 0, 0, 0, 0, 0, 0, 0, 0],\n",
       " 900: [0, 0, 0, 0, 0, 0, 0, 0, 0, 0],\n",
       " 1000: [0, 0, 0, 0, 0, 0, 0, 0, 0, 1028600],\n",
       " 2000: [0, 0, 0, 0, 0, 999600, 0, 0, 0, 0],\n",
       " 3000: [644100, 1005800, 0, 0, 0, 0, 0, 0, 0, 0],\n",
       " 4000: [585500, 0, 0, 0, 0, 0, 0, 0, 0, 0],\n",
       " 5000: [0, 0, 999700, 0, 0, 0, 0, 0, 0, 0]}"
      ]
     },
     "execution_count": 73,
     "metadata": {},
     "output_type": "execute_result"
    }
   ],
   "source": [
    "insert_sample = random.sample(words, k=20)  # Fixed 20-word sample to test insert time\n",
    "print(insert_sample)\n",
    "insert_times = {}\n",
    "all_times = {}\n",
    "\n",
    "# Benchmark insert performance as tree size increases\n",
    "for sample in samples:\n",
    "    all_runs = []\n",
    "    # Measure the time to insert 20 new words (multiple runs for averaging)\n",
    "    insert_times[len(sample)] = 0.0\n",
    "\n",
    "    # repeat the insertion, each time building new tree\n",
    "    for i in range(nr_runs):\n",
    "        tst = TernarySearchTree()\n",
    "\n",
    "        random.shuffle(sample)\n",
    "        # rebuild the tree with the shuffled sample\n",
    "        for word in sample:\n",
    "            tst.insert(word)\n",
    "\n",
    "        # then, time how long insertion of words take\n",
    "        start_time = time.time_ns()\n",
    "        for word in insert_sample:\n",
    "            tst.insert(word)\n",
    "        end_time = time.time_ns()\n",
    "\n",
    "        insert_times[len(sample)] += end_time - start_time\n",
    "        all_runs.append((end_time-start_time))\n",
    "\n",
    "    # Average over number of runs and convert to milliseconds\n",
    "    insert_times[len(sample)] /= nr_runs * 1_000_000.0\n",
    "    all_times[len(sample)] = all_runs\n",
    "\n",
    "\n",
    "insert_times\n",
    "all_times"
   ]
  },
  {
   "cell_type": "markdown",
   "id": "e81459b6",
   "metadata": {},
   "source": [
    "Ok, we see lots of Zeros flying around. Averaging over this would be misleading. It seems the resolution of time measurement we are using here is not capturing our insertion method. This suggests that inserting 20 words is too fast to be informative. Let's try again with more words:"
   ]
  },
  {
   "cell_type": "code",
   "execution_count": 79,
   "id": "eb4d1a7d",
   "metadata": {},
   "outputs": [
    {
     "name": "stdout",
     "output_type": "stream",
     "text": [
      "['blocks', 'cowgirls', 'illegalities', 'stunned', 'travelled', 'worrisome', 'building', 'neighbourhood', 'notorious', 'pinion', 'lioness', 'looted', 'safari', 'dryness', 'leering', 'bebop', 'maddeningly', 'inscribe', 'pulping', 'definitions', 'zips', 'traditionalists', 'schooled', 'melanin', 'anemones', 'quantity', 'antioxidants', 'legislature', 'egregious', 'indistinct', 'scanners', 'cereals', 'unavailing', 'potting', 'dilutes', 'surcharged', 'baseness', 'lancers', 'interactions', 'inflaming', 'ringless', 'curtsies', 'behaviourism', 'breasted', 'prettily', 'overflows', 'noose', 'samosas', 'treated', 'vortexes', 'pertaining', 'luminescent', 'borough', 'biplanes', 'hone', 'ion', 'privatise', 'asphyxiation', 'schema', 'converse', 'verdant', 'slurps', 'enrobe', 'numbering', 'brief', 'selfpity', 'londoner', 'choppier', 'foliage', 'whisper', 'inadequacies', 'scoreline', 'pompousness', 'renegades', 'brachiopods', 'affair', 'serenity', 'direst', 'remunerative', 'gulp', 'plus', 'cosmically', 'concurrently', 'pontoons', 'trusses', 'chuckle', 'solicitously', 'raided', 'greek', 'turfs', 'bicentennial', 'teaspoonfuls', 'quixotic', 'stud', 'renegotiation', 'microwaveable', 'geographers', 'unsung', 'palaeontologists', 'tempestuous', 'likeness', 'breezily', 'appeared', 'eavesdropped', 'unforthcoming', 'thornier', 'padded', 'marginals', 'monostable', 'gimmicks', 'denoting', 'gleamed', 'orthodoxy', 'subjectivity', 'decimetres', 'sprinkling', 'mudflows', 'syndromes', 'alveolar', 'schoolteachers', 'fomenting', 'seas', 'deportees', 'legalising', 'play', 'biochemistry', 'stakes', 'goalkeeper', 'cutouts', 'storeman', 'slanderous', 'heels', 'sanctification', 'experimental', 'oakum', 'cautiously', 'stemmed', 'blaring', 'syncretic', 'indefinably', 'repelled', 'flag', 'judo', 'outdone', 'protestor', 'slanging', 'graduate', 'broaches', 'tart', 'psychosomatic', 'facilitators', 'scenically', 'secular', 'inbred', 'sounder', 'aquiline', 'seashores', 'wobblier', 'marched', 'embroidered', 'ecumenically', 'mistreated', 'wheat', 'stalked', 'itineraries', 'handlebars', 'ominously', 'smithereens', 'bribery', 'loon', 'trivia', 'microcode', 'sprite', 'bares', 'reimplemented', 'lilting', 'contemporaneously', 'humankind', 'decree', 'washbasin', 'uncoiling', 'wreathing', 'gametes', 'craters', 'rectum', 'proffers', 'toothy', 'sycophantically', 'tyrannicide', 'anarchist', 'goats', 'refreshes', 'speculation', 'wether', 'curlew', 'devastated', 'contraventions', 'breadths', 'friars', 'pharmacologist']\n"
     ]
    },
    {
     "data": {
      "text/plain": [
       "{100: [2156900, 0, 5491900, 4585300, 1001900, 2005300, 0, 0, 8339900, 2000600],\n",
       " 200: [2269500,\n",
       "  2515600,\n",
       "  1376400,\n",
       "  2006800,\n",
       "  1008700,\n",
       "  1249500,\n",
       "  2509800,\n",
       "  2435500,\n",
       "  2021500,\n",
       "  1007800],\n",
       " 300: [1996200,\n",
       "  2000300,\n",
       "  2009600,\n",
       "  982300,\n",
       "  2148800,\n",
       "  2008300,\n",
       "  1001000,\n",
       "  2668400,\n",
       "  1452200,\n",
       "  1996900],\n",
       " 400: [2000500, 1017500, 1535400, 0, 1512900, 0, 0, 1000200, 0, 0],\n",
       " 500: [3200400,\n",
       "  1987700,\n",
       "  1870900,\n",
       "  1996900,\n",
       "  2007100,\n",
       "  0,\n",
       "  0,\n",
       "  3026600,\n",
       "  1336900,\n",
       "  3049500],\n",
       " 600: [5031500,\n",
       "  2501700,\n",
       "  3023800,\n",
       "  3000100,\n",
       "  2000500,\n",
       "  3632900,\n",
       "  1959700,\n",
       "  2081100,\n",
       "  2022100,\n",
       "  2180300],\n",
       " 700: [2380500, 2008000, 1010200, 1000500, 1002200, 4044000, 0, 0, 0, 1539800],\n",
       " 800: [1991200,\n",
       "  2994800,\n",
       "  2001800,\n",
       "  2609000,\n",
       "  2992700,\n",
       "  2025100,\n",
       "  1992700,\n",
       "  3006700,\n",
       "  2001500,\n",
       "  2997100],\n",
       " 900: [1988100,\n",
       "  1999400,\n",
       "  2001600,\n",
       "  2999900,\n",
       "  1999400,\n",
       "  2003000,\n",
       "  1999500,\n",
       "  1998800,\n",
       "  94829400,\n",
       "  999700],\n",
       " 1000: [2000900,\n",
       "  2000600,\n",
       "  2010600,\n",
       "  2009800,\n",
       "  1004100,\n",
       "  1999600,\n",
       "  1996800,\n",
       "  1994800,\n",
       "  1565800,\n",
       "  2008700],\n",
       " 2000: [2000000,\n",
       "  1981800,\n",
       "  2005300,\n",
       "  2989700,\n",
       "  2011600,\n",
       "  2000000,\n",
       "  990200,\n",
       "  1987600,\n",
       "  1974100,\n",
       "  2542700],\n",
       " 3000: [2003700,\n",
       "  1999900,\n",
       "  1999900,\n",
       "  997200,\n",
       "  2038200,\n",
       "  2000100,\n",
       "  999900,\n",
       "  1009200,\n",
       "  1990700,\n",
       "  2000000],\n",
       " 4000: [2000700,\n",
       "  2000100,\n",
       "  999300,\n",
       "  999100,\n",
       "  2000000,\n",
       "  2002200,\n",
       "  1995600,\n",
       "  2000600,\n",
       "  1612800,\n",
       "  1996900],\n",
       " 5000: [1000100,\n",
       "  2002200,\n",
       "  2000000,\n",
       "  1999900,\n",
       "  2000200,\n",
       "  1008400,\n",
       "  2320900,\n",
       "  1011200,\n",
       "  1989800,\n",
       "  1999900]}"
      ]
     },
     "execution_count": 79,
     "metadata": {},
     "output_type": "execute_result"
    }
   ],
   "source": [
    "insert_sample = random.sample(words, k=200)  # Increase numbe to 200-word sample to test insert time\n",
    "print(insert_sample)\n",
    "insert_times = {}\n",
    "all_times = {}\n",
    "\n",
    "# Benchmark insert performance as tree size increases\n",
    "for sample in samples:\n",
    "    all_runs = []\n",
    "    # Measure the time to insert 20 new words (multiple runs for averaging)\n",
    "    insert_times[len(sample)] = 0.0\n",
    "\n",
    "    # repeat the insertion, each time building new tree\n",
    "    for i in range(nr_runs):\n",
    "        tst = TernarySearchTree()\n",
    "\n",
    "        random.shuffle(sample)\n",
    "        # rebuild the tree with the shuffled sample\n",
    "        for word in sample:\n",
    "            tst.insert(word)\n",
    "\n",
    "        # then, time how long insertion of words take\n",
    "        start_time = time.time_ns()\n",
    "        for word in insert_sample:\n",
    "            tst.insert(word)\n",
    "        end_time = time.time_ns()\n",
    "\n",
    "        insert_times[len(sample)] += end_time - start_time\n",
    "        all_runs.append((end_time-start_time))\n",
    "\n",
    "    # Average over number of runs and convert to milliseconds\n",
    "    insert_times[len(sample)] /= nr_runs * 1_000_000.0\n",
    "    all_times[len(sample)] = all_runs\n",
    "\n",
    "\n",
    "insert_times\n",
    "all_times"
   ]
  },
  {
   "cell_type": "markdown",
   "id": "b4bf97bc",
   "metadata": {},
   "source": [
    "Ok, this looks more realistic. Now we can visualize the results:"
   ]
  },
  {
   "cell_type": "code",
   "execution_count": null,
   "id": "820d47df",
   "metadata": {},
   "outputs": [
    {
     "data": {
      "image/png": "[encoded data removed]",
      "text/plain": [
       "<Figure size 640x480 with 1 Axes>"
      ]
     },
     "metadata": {},
     "output_type": "display_data"
    }
   ],
   "source": [
    "plt.figure()\n",
    "plt.plot(insert_times.keys(), insert_times.values(), marker='o')\n",
    "plt.title(\"TST Insert Performance\")\n",
    "plt.xlabel(\"Number of words in TST\")\n",
    "plt.ylabel(\"Insert time for 20 words (ms)\")\n",
    "plt.grid(True)\n",
    "plt.savefig(\"results/insert_tst_small.png\")"
   ]
  },
  {
   "cell_type": "markdown",
   "id": "26d52bd9",
   "metadata": {},
   "source": [
    "The TST shows stable insertion times for increasing tree size. We can also vary the size of words to be inserted."
   ]
  },
  {
   "cell_type": "code",
   "execution_count": 81,
   "id": "51bdb44e",
   "metadata": {},
   "outputs": [
    {
     "name": "stdout",
     "output_type": "stream",
     "text": [
      "Average insert times (ms): {10: 0.17737001180648804, 50: 0.6128299981355667, 100: 0.9932099957950413, 200: 1.6883899981621653, 500: 4.638160002650693, 1000: 8.590179996099323, 2000: 17.599290009820834, 3000: 34.732960001565516, 4000: 55.69711000425741}\n",
      "All run durations (ms): {10: [0.1694000093266368, 0.1996000064536929, 0.21760002709925175, 0.16420002793893218, 0.18470000941306353, 0.1503999810665846, 0.20920002134516835, 0.1588000450283289, 0.14109996845945716, 0.17870002193376422], 50: [0.5778000340797007, 0.5790999857708812, 1.7245999770238996, 0.4697000258602202, 0.4393999697640538, 0.43130002450197935, 0.42639998719096184, 0.48669998068362474, 0.5380000220611691, 0.4552999744191766], 100: [0.8090999908745289, 0.9550000540912151, 0.8902999688871205, 0.8373999735340476, 0.8718000026419759, 0.9334000060334802, 0.824199989438057, 0.8543999865651131, 1.943300012499094, 1.013199973385781], 200: [1.5106999780982733, 1.6272999928332865, 1.590800005942583, 1.589599996805191, 1.6451000119559467, 1.868800027295947, 1.9866999937221408, 1.8492999952286482, 1.6856000293046236, 1.5299999504350126], 500: [5.147899966686964, 6.572099984623492, 4.725600010715425, 4.3129000114277005, 3.7424000329338014, 4.6233999892137945, 4.596299957484007, 4.461000033188611, 4.470999992918223, 3.729000047314912], 1000: [7.614600006490946, 9.199000021908432, 8.198200026527047, 8.549699967261404, 8.067100017797202, 8.387100009713322, 9.251999959815294, 8.461599994916469, 8.41249997029081, 9.759999986272305], 2000: [19.762500014621764, 18.09460000367835, 18.71850003954023, 16.14369999151677, 17.262700013816357, 18.38550000684336, 16.231699963100255, 17.030099988915026, 17.50360004371032, 16.860000032465905], 3000: [26.667799975257367, 26.28800005186349, 24.43759999005124, 23.80650001578033, 123.86659998446703, 23.928500013425946, 24.32660001795739, 24.21509998384863, 24.139299988746643, 25.653599994257092], 4000: [32.79200004180893, 32.62789995642379, 136.1647000303492, 32.09569997852668, 32.808000047225505, 33.0926000024192, 34.75089999847114, 152.47450000606477, 35.21930001443252, 34.94549996685237]}\n"
     ]
    }
   ],
   "source": [
    "nr_runs = 10  # number of times to repeat each measurement\n",
    "base_tree_size = 5000  # Fixed size of the tree\n",
    "insert_sizes = [10, 50, 100, 200, 500, 1000, 2000, 3000, 4000]  # Varying insert sizes\n",
    "\n",
    "# fixed base tree\n",
    "base_sample = random.sample(words, k=base_tree_size)\n",
    "\n",
    "insert_times = {}\n",
    "all_times = {}\n",
    "\n",
    "for insert_size in insert_sizes:\n",
    "    insert_sample = random.sample(words, k=insert_size)\n",
    "    insert_times[insert_size] = 0.0\n",
    "    all_runs = []\n",
    "\n",
    "    for _ in range(nr_runs):\n",
    "        tst = TernarySearchTree()\n",
    "\n",
    "        # build the base tree with 5000 words\n",
    "        shuffled_base = base_sample[:]\n",
    "        random.shuffle(shuffled_base)\n",
    "        for word in shuffled_base:\n",
    "            tst.insert(word)\n",
    "\n",
    "        # time how long it takes to insert insert_size new words\n",
    "        start_time = time.perf_counter()\n",
    "        for word in insert_sample:\n",
    "            tst.insert(word)\n",
    "        end_time = time.perf_counter()\n",
    "\n",
    "        duration_ms = (end_time - start_time) * 1000\n",
    "        insert_times[insert_size] += duration_ms\n",
    "        all_runs.append(duration_ms)\n",
    "\n",
    "    # average over number of runs\n",
    "    insert_times[insert_size] /= nr_runs\n",
    "    all_times[insert_size] = all_runs\n",
    "\n",
    "\n",
    "print(\"Average insert times (ms):\", insert_times)\n",
    "print(\"All run durations (ms):\", all_times)\n"
   ]
  },
  {
   "cell_type": "markdown",
   "id": "1d48a578",
   "metadata": {},
   "source": [
    "### Prefix Search Performance\n",
    "\n"
   ]
  },
  {
   "cell_type": "markdown",
   "id": "8abaeab7",
   "metadata": {},
   "source": [
    "### Exact Search Performance\n",
    "\n",
    "### All Strings"
   ]
  },
  {
   "cell_type": "markdown",
   "id": "34e08c9e",
   "metadata": {},
   "source": [
    "## Medium-Sized TST"
   ]
  },
  {
   "cell_type": "markdown",
   "id": "031dbf1e",
   "metadata": {},
   "source": [
    "## Large-Sized TST"
   ]
  },
  {
   "cell_type": "markdown",
   "id": "c2d726da",
   "metadata": {},
   "source": [
    "\n",
    "------------------------------------------------------------------------------------------\n",
    "Time and Space Complexity of Ternary Search Tree (TST)\n",
    "------------------------------------------------------------------------------------------\n",
    "\n",
    "Time Complexity (n = number of words, L = average word length):\n",
    "\n",
    "- Insertion:\n",
    "    - Worst Case: O(L * n) → if the tree becomes unbalanced (like a linked list)\n",
    "    - Average Case: O(L * log n) → assuming a roughly balanced ternary tree\n",
    "    - Best Case: O(L) → for inserting words into an optimally balanced TST\n",
    "\n",
    "- Search:\n",
    "    - Worst Case: O(L * n) → in a degenerate (unbalanced) tree\n",
    "    - Average Case: O(L * log n)\n",
    "    - Best Case: O(L)\n",
    "\n",
    "- Prefix Search:\n",
    "    - TST supports prefix search naturally and efficiently in O(L) time (to find prefix) + O(k) to collect matching strings.\n",
    "\n",
    "Space Complexity:\n",
    "\n",
    "- O(n * L), where:\n",
    "    - n = number of distinct words\n",
    "    - L = average length of each word\n",
    "    - Each character may be stored in a separate node, but space is reused for common prefixes.\n",
    "- Additional memory for three pointers (left, mid, right) per node.\n",
    "\n",
    "Comparison:\n",
    "- Python's set() has O(1) average insert and search time using hash tables, but does not support prefix search.\n",
    "- TST trades off speed for space efficiency and support for prefix queries.\n"
   ]
  },
  {
   "cell_type": "markdown",
   "id": "e62f7207",
   "metadata": {},
   "source": [
    "------------------------------------------------------------------------------------------\n",
    "Interpretation: TST Search Performance vs Python Set\n",
    "------------------------------------------------------------------------------------------\n",
    "\n",
    "TST Search Performance (results/search_tst.png).\n",
    "This plot shows the average time to search 20 words in a Ternary Search Tree (TST) as the number of inserted words increases.\n",
    "\n",
    "- We observe that search time increases slightly as the tree size grows, which is expected since deeper or more complex trees take longer to traverse.\n",
    "- The increase is not linear and fluctuates slightly due to randomness in tree structure from sampling.\n",
    "- Overall, TST maintains reasonable search performance, typically under 0.25 ms for 20 lookups, even for trees with 50,000 words.\n",
    "\n",
    "Set vs TST Search Comparison (results/search_comparison.png)\n",
    "- Python set (which uses hash-based lookup) performs the search in effectively zero milliseconds — near-instant due to constant-time average-case complexity 𝑂(1).\n",
    "- In contrast, TST takes approximately 2 milliseconds to search the same 100 words.\n",
    "- This highlights a key point: TSTs are slower than hash sets for exact searches, but they support prefix-based or partial matches, which sets do not.\n",
    "\n",
    "Conclusion: TSTs are useful when we need structured word storage or prefix queries (e.g., autocomplete), but for plain exact lookups, Python sets are significantly faster."
   ]
  }
 ],
 "metadata": {
  "kernelspec": {
   "display_name": "APPY2025",
   "language": "python",
   "name": "python3"
  },
  "language_info": {
   "codemirror_mode": {
    "name": "ipython",
    "version": 3
   },
   "file_extension": ".py",
   "mimetype": "text/x-python",
   "name": "python",
   "nbconvert_exporter": "python",
   "pygments_lexer": "ipython3",
   "version": "3.12.9"
  }
 },
 "nbformat": 4,
 "nbformat_minor": 5
}
