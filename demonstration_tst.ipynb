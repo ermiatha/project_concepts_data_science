{
 "cells": [
  {
   "cell_type": "markdown",
   "id": "62d5d7a7",
   "metadata": {},
   "source": [
    "# Performance Demonstration of Ternary Search Trees (TST)\n",
    "\n",
    "This notebook evaluates the performance of Ternary Search Trees across key operations on datasets of varying sizes. Each section contains:"
   ]
  },
  {
   "cell_type": "code",
   "execution_count": 3,
   "id": "b25d9385",
   "metadata": {},
   "outputs": [],
   "source": [
    "import random\n",
    "import time\n",
    "import matplotlib.pyplot as plt\n",
    "from ternary_search_tree import TernarySearchTree\n"
   ]
  },
  {
   "cell_type": "code",
   "execution_count": 2,
   "id": "baffd97a",
   "metadata": {},
   "outputs": [],
   "source": [
    "# Load English words from file and strip whitespace\n",
    "with open('data/search_trees/corncob_lowercase.txt') as file:\n",
    "    words = [line.strip() for line in file]"
   ]
  },
  {
   "cell_type": "markdown",
   "id": "7d28145e",
   "metadata": {},
   "source": [
    "## Small-Sized TST\n",
    "### Insertion Performance\n",
    "Let's start inserting a small dataset into our TST (1000 words)"
   ]
  },
  {
   "cell_type": "code",
   "execution_count": 52,
   "id": "4d947c9b",
   "metadata": {},
   "outputs": [],
   "source": [
    "sizes = [100, 500, 1000, 5000]  # Sizes of trees to build\n",
    "nr_runs = 10  # Number of benchmark runs to average timing results\n",
    "\n",
    "# create a list of random samples for each size\n",
    "samples = [\n",
    "    random.sample(words, k=size) for size in sizes\n",
    "]"
   ]
  },
  {
   "cell_type": "markdown",
   "id": "bd9b31ca",
   "metadata": {},
   "source": [
    "Let's now build trees with the prespecified sizes:"
   ]
  },
  {
   "cell_type": "code",
   "execution_count": null,
   "id": "b9700da2",
   "metadata": {},
   "outputs": [
    {
     "name": "stdout",
     "output_type": "stream",
     "text": [
      "['obeyed', 'troubadours', 'irritable', 'unorthodox', 'securest', 'inclusively', 'peatlands', 'climbdown', 'blacklisted', 'varnishes', 'apprehensions', 'amnesty', 'roving', 'patchable', 'bivouacs', 'massless', 'encloses', 'weaver', 'entrapped', 'relied']\n",
      "{100: [0, 1001000, 0, 1204300, 0, 0, 0, 999300, 999500, 0], 500: [0, 1018800, 654000, 0, 0, 0, 0, 0, 0, 0], 1000: [0, 546800, 0, 1802300, 1035100, 0, 630900, 519900, 508400, 0], 5000: [1014400, 0, 1280800, 0, 0, 0, 551600, 1010800, 0, 0]}\n"
     ]
    }
   ],
   "source": [
    "insert_sample = random.sample(words, k=20)  # Fixed 20-word sample to test insert time\n",
    "print(insert_sample)\n",
    "insert_times = {}\n",
    "all_times = {}\n",
    "\n",
    "# Benchmark insert performance as tree size increases\n",
    "for sample in samples:\n",
    "    all_runs = []\n",
    "    # Measure the time to insert 20 new words (multiple runs for averaging)\n",
    "    insert_times[len(sample)] = 0.0\n",
    "    for i in range(nr_runs):\n",
    "        tst = TernarySearchTree()\n",
    "\n",
    "        random.shuffle(sample)\n",
    "        # First, build the tree with the sample size\n",
    "        for word in sample:\n",
    "            tst.insert(word)\n",
    "\n",
    "        start_time = time.time_ns()\n",
    "        for word in insert_sample:\n",
    "            tst.insert(word)\n",
    "        end_time = time.time_ns()\n",
    "\n",
    "        insert_times[len(sample)] += end_time - start_time\n",
    "        all_runs.append((end_time-start_time))\n",
    "\n",
    "    # Average over number of runs and convert to milliseconds\n",
    "    insert_times[len(sample)] /= nr_runs * 1_000_000.0\n",
    "    all_times[len(sample)] = all_runs\n",
    "\n",
    "print(all_times)"
   ]
  },
  {
   "cell_type": "markdown",
   "id": "1d48a578",
   "metadata": {},
   "source": [
    "### Prefix Search Performance\n",
    "\n"
   ]
  },
  {
   "cell_type": "markdown",
   "id": "8abaeab7",
   "metadata": {},
   "source": [
    "### Exact Search Performance\n",
    "\n",
    "### All Strings"
   ]
  },
  {
   "cell_type": "markdown",
   "id": "34e08c9e",
   "metadata": {},
   "source": [
    "## Medium-Sized TST"
   ]
  },
  {
   "cell_type": "markdown",
   "id": "031dbf1e",
   "metadata": {},
   "source": [
    "## Large-Sized TST"
   ]
  },
  {
   "cell_type": "markdown",
   "id": "c2d726da",
   "metadata": {},
   "source": [
    "\n",
    "------------------------------------------------------------------------------------------\n",
    "Time and Space Complexity of Ternary Search Tree (TST)\n",
    "------------------------------------------------------------------------------------------\n",
    "\n",
    "Time Complexity (n = number of words, L = average word length):\n",
    "\n",
    "- Insertion:\n",
    "    - Worst Case: O(L * n) → if the tree becomes unbalanced (like a linked list)\n",
    "    - Average Case: O(L * log n) → assuming a roughly balanced ternary tree\n",
    "    - Best Case: O(L) → for inserting words into an optimally balanced TST\n",
    "\n",
    "- Search:\n",
    "    - Worst Case: O(L * n) → in a degenerate (unbalanced) tree\n",
    "    - Average Case: O(L * log n)\n",
    "    - Best Case: O(L)\n",
    "\n",
    "- Prefix Search:\n",
    "    - TST supports prefix search naturally and efficiently in O(L) time (to find prefix) + O(k) to collect matching strings.\n",
    "\n",
    "Space Complexity:\n",
    "\n",
    "- O(n * L), where:\n",
    "    - n = number of distinct words\n",
    "    - L = average length of each word\n",
    "    - Each character may be stored in a separate node, but space is reused for common prefixes.\n",
    "- Additional memory for three pointers (left, mid, right) per node.\n",
    "\n",
    "Comparison:\n",
    "- Python's set() has O(1) average insert and search time using hash tables, but does not support prefix search.\n",
    "- TST trades off speed for space efficiency and support for prefix queries.\n"
   ]
  }
 ],
 "metadata": {
  "kernelspec": {
   "display_name": "APPY2025",
   "language": "python",
   "name": "python3"
  },
  "language_info": {
   "codemirror_mode": {
    "name": "ipython",
    "version": 3
   },
   "file_extension": ".py",
   "mimetype": "text/x-python",
   "name": "python",
   "nbconvert_exporter": "python",
   "pygments_lexer": "ipython3",
   "version": "3.12.9"
  }
 },
 "nbformat": 4,
 "nbformat_minor": 5
}
